{
  "nbformat": 4,
  "nbformat_minor": 0,
  "metadata": {
    "colab": {
      "name": "[1] nn.Sequential API를 활용한 MNIST 데이터셋 분류 실습.ipynb의 사본의 사본",
      "provenance": [],
      "collapsed_sections": [],
      "include_colab_link": true
    },
    "kernelspec": {
      "name": "python3",
      "display_name": "Python 3"
    },
    "language_info": {
      "name": "python"
    }
  },
  "cells": [
    {
      "cell_type": "markdown",
      "metadata": {
        "id": "view-in-github",
        "colab_type": "text"
      },
      "source": [
        "<a href=\"https://colab.research.google.com/github/Welle-Kim/pytorch/blob/master/%5B1%5D_nn_Sequential_API%EB%A5%BC_%ED%99%9C%EC%9A%A9%ED%95%9C_MNIST_%EB%8D%B0%EC%9D%B4%ED%84%B0%EC%85%8B_%EB%B6%84%EB%A5%98_%EC%8B%A4%EC%8A%B5_ipynb%EC%9D%98_%EC%82%AC%EB%B3%B8%EC%9D%98_%EC%82%AC%EB%B3%B8.ipynb\" target=\"_parent\"><img src=\"https://colab.research.google.com/assets/colab-badge.svg\" alt=\"Open In Colab\"/></a>"
      ]
    },
    {
      "cell_type": "code",
      "execution_count": null,
      "metadata": {
        "id": "BYY04MgkWgY9"
      },
      "outputs": [],
      "source": [
        "import torch\n",
        "from tensorflow.keras.datasets import mnist\n",
        "\n",
        "import numpy as np\n",
        "import matplotlib.pyplot as plt"
      ]
    },
    {
      "cell_type": "markdown",
      "source": [
        "# Step 1. 데이터 준비 "
      ],
      "metadata": {
        "id": "0QOjQU-PIRax"
      }
    },
    {
      "cell_type": "markdown",
      "source": [
        "## Step 1-1. Input tensor 와 Target tensor 준비(훈련데이터)\n",
        "  * MNIST 데이터 셋 Download"
      ],
      "metadata": {
        "id": "lrCvwcOrWz3T"
      }
    },
    {
      "cell_type": "code",
      "source": [
        "(train_images, train_labels), (test_images, test_labels) = mnist.load_data()"
      ],
      "metadata": {
        "id": "9JpNOTQFWxht",
        "colab": {
          "base_uri": "https://localhost:8080/"
        },
        "outputId": "455a8f88-d137-49e4-84bf-8b3ce6b13d9a"
      },
      "execution_count": null,
      "outputs": [
        {
          "output_type": "stream",
          "name": "stdout",
          "text": [
            "Downloading data from https://storage.googleapis.com/tensorflow/tf-keras-datasets/mnist.npz\n",
            "11493376/11490434 [==============================] - 0s 0us/step\n",
            "11501568/11490434 [==============================] - 0s 0us/step\n"
          ]
        }
      ]
    },
    {
      "cell_type": "code",
      "source": [
        "type(train_images)"
      ],
      "metadata": {
        "colab": {
          "base_uri": "https://localhost:8080/"
        },
        "id": "yTRfVgQtAqdk",
        "outputId": "b74a5f6a-c758-4fdd-8eff-2af248a014ed"
      },
      "execution_count": null,
      "outputs": [
        {
          "output_type": "execute_result",
          "data": {
            "text/plain": [
              "numpy.ndarray"
            ]
          },
          "metadata": {},
          "execution_count": 3
        }
      ]
    },
    {
      "cell_type": "code",
      "source": [
        "print(train_images.shape)\n",
        "print(train_labels.shape)"
      ],
      "metadata": {
        "colab": {
          "base_uri": "https://localhost:8080/"
        },
        "id": "u3HmoCD1W1JK",
        "outputId": "1e4d4f10-18b3-48f0-ff22-6418366c2825"
      },
      "execution_count": null,
      "outputs": [
        {
          "output_type": "stream",
          "name": "stdout",
          "text": [
            "(60000, 28, 28)\n",
            "(60000,)\n"
          ]
        }
      ]
    },
    {
      "cell_type": "code",
      "source": [
        "train_images[0].shape"
      ],
      "metadata": {
        "colab": {
          "base_uri": "https://localhost:8080/"
        },
        "id": "4CZlX2eEW2EO",
        "outputId": "00327897-a598-43f8-f070-6ebbc3101c9a"
      },
      "execution_count": null,
      "outputs": [
        {
          "output_type": "execute_result",
          "data": {
            "text/plain": [
              "(28, 28)"
            ]
          },
          "metadata": {},
          "execution_count": 5
        }
      ]
    },
    {
      "cell_type": "code",
      "source": [
        "train_images[0]"
      ],
      "metadata": {
        "colab": {
          "base_uri": "https://localhost:8080/"
        },
        "id": "mTmWzfg0EeWI",
        "outputId": "4953aa36-8e48-410f-bf1f-4b8d17081f2d"
      },
      "execution_count": null,
      "outputs": [
        {
          "output_type": "execute_result",
          "data": {
            "text/plain": [
              "array([[  0,   0,   0,   0,   0,   0,   0,   0,   0,   0,   0,   0,   0,\n",
              "          0,   0,   0,   0,   0,   0,   0,   0,   0,   0,   0,   0,   0,\n",
              "          0,   0],\n",
              "       [  0,   0,   0,   0,   0,   0,   0,   0,   0,   0,   0,   0,   0,\n",
              "          0,   0,   0,   0,   0,   0,   0,   0,   0,   0,   0,   0,   0,\n",
              "          0,   0],\n",
              "       [  0,   0,   0,   0,   0,   0,   0,   0,   0,   0,   0,   0,   0,\n",
              "          0,   0,   0,   0,   0,   0,   0,   0,   0,   0,   0,   0,   0,\n",
              "          0,   0],\n",
              "       [  0,   0,   0,   0,   0,   0,   0,   0,   0,   0,   0,   0,   0,\n",
              "          0,   0,   0,   0,   0,   0,   0,   0,   0,   0,   0,   0,   0,\n",
              "          0,   0],\n",
              "       [  0,   0,   0,   0,   0,   0,   0,   0,   0,   0,   0,   0,   0,\n",
              "          0,   0,   0,   0,   0,   0,   0,   0,   0,   0,   0,   0,   0,\n",
              "          0,   0],\n",
              "       [  0,   0,   0,   0,   0,   0,   0,   0,   0,   0,   0,   0,   3,\n",
              "         18,  18,  18, 126, 136, 175,  26, 166, 255, 247, 127,   0,   0,\n",
              "          0,   0],\n",
              "       [  0,   0,   0,   0,   0,   0,   0,   0,  30,  36,  94, 154, 170,\n",
              "        253, 253, 253, 253, 253, 225, 172, 253, 242, 195,  64,   0,   0,\n",
              "          0,   0],\n",
              "       [  0,   0,   0,   0,   0,   0,   0,  49, 238, 253, 253, 253, 253,\n",
              "        253, 253, 253, 253, 251,  93,  82,  82,  56,  39,   0,   0,   0,\n",
              "          0,   0],\n",
              "       [  0,   0,   0,   0,   0,   0,   0,  18, 219, 253, 253, 253, 253,\n",
              "        253, 198, 182, 247, 241,   0,   0,   0,   0,   0,   0,   0,   0,\n",
              "          0,   0],\n",
              "       [  0,   0,   0,   0,   0,   0,   0,   0,  80, 156, 107, 253, 253,\n",
              "        205,  11,   0,  43, 154,   0,   0,   0,   0,   0,   0,   0,   0,\n",
              "          0,   0],\n",
              "       [  0,   0,   0,   0,   0,   0,   0,   0,   0,  14,   1, 154, 253,\n",
              "         90,   0,   0,   0,   0,   0,   0,   0,   0,   0,   0,   0,   0,\n",
              "          0,   0],\n",
              "       [  0,   0,   0,   0,   0,   0,   0,   0,   0,   0,   0, 139, 253,\n",
              "        190,   2,   0,   0,   0,   0,   0,   0,   0,   0,   0,   0,   0,\n",
              "          0,   0],\n",
              "       [  0,   0,   0,   0,   0,   0,   0,   0,   0,   0,   0,  11, 190,\n",
              "        253,  70,   0,   0,   0,   0,   0,   0,   0,   0,   0,   0,   0,\n",
              "          0,   0],\n",
              "       [  0,   0,   0,   0,   0,   0,   0,   0,   0,   0,   0,   0,  35,\n",
              "        241, 225, 160, 108,   1,   0,   0,   0,   0,   0,   0,   0,   0,\n",
              "          0,   0],\n",
              "       [  0,   0,   0,   0,   0,   0,   0,   0,   0,   0,   0,   0,   0,\n",
              "         81, 240, 253, 253, 119,  25,   0,   0,   0,   0,   0,   0,   0,\n",
              "          0,   0],\n",
              "       [  0,   0,   0,   0,   0,   0,   0,   0,   0,   0,   0,   0,   0,\n",
              "          0,  45, 186, 253, 253, 150,  27,   0,   0,   0,   0,   0,   0,\n",
              "          0,   0],\n",
              "       [  0,   0,   0,   0,   0,   0,   0,   0,   0,   0,   0,   0,   0,\n",
              "          0,   0,  16,  93, 252, 253, 187,   0,   0,   0,   0,   0,   0,\n",
              "          0,   0],\n",
              "       [  0,   0,   0,   0,   0,   0,   0,   0,   0,   0,   0,   0,   0,\n",
              "          0,   0,   0,   0, 249, 253, 249,  64,   0,   0,   0,   0,   0,\n",
              "          0,   0],\n",
              "       [  0,   0,   0,   0,   0,   0,   0,   0,   0,   0,   0,   0,   0,\n",
              "          0,  46, 130, 183, 253, 253, 207,   2,   0,   0,   0,   0,   0,\n",
              "          0,   0],\n",
              "       [  0,   0,   0,   0,   0,   0,   0,   0,   0,   0,   0,   0,  39,\n",
              "        148, 229, 253, 253, 253, 250, 182,   0,   0,   0,   0,   0,   0,\n",
              "          0,   0],\n",
              "       [  0,   0,   0,   0,   0,   0,   0,   0,   0,   0,  24, 114, 221,\n",
              "        253, 253, 253, 253, 201,  78,   0,   0,   0,   0,   0,   0,   0,\n",
              "          0,   0],\n",
              "       [  0,   0,   0,   0,   0,   0,   0,   0,  23,  66, 213, 253, 253,\n",
              "        253, 253, 198,  81,   2,   0,   0,   0,   0,   0,   0,   0,   0,\n",
              "          0,   0],\n",
              "       [  0,   0,   0,   0,   0,   0,  18, 171, 219, 253, 253, 253, 253,\n",
              "        195,  80,   9,   0,   0,   0,   0,   0,   0,   0,   0,   0,   0,\n",
              "          0,   0],\n",
              "       [  0,   0,   0,   0,  55, 172, 226, 253, 253, 253, 253, 244, 133,\n",
              "         11,   0,   0,   0,   0,   0,   0,   0,   0,   0,   0,   0,   0,\n",
              "          0,   0],\n",
              "       [  0,   0,   0,   0, 136, 253, 253, 253, 212, 135, 132,  16,   0,\n",
              "          0,   0,   0,   0,   0,   0,   0,   0,   0,   0,   0,   0,   0,\n",
              "          0,   0],\n",
              "       [  0,   0,   0,   0,   0,   0,   0,   0,   0,   0,   0,   0,   0,\n",
              "          0,   0,   0,   0,   0,   0,   0,   0,   0,   0,   0,   0,   0,\n",
              "          0,   0],\n",
              "       [  0,   0,   0,   0,   0,   0,   0,   0,   0,   0,   0,   0,   0,\n",
              "          0,   0,   0,   0,   0,   0,   0,   0,   0,   0,   0,   0,   0,\n",
              "          0,   0],\n",
              "       [  0,   0,   0,   0,   0,   0,   0,   0,   0,   0,   0,   0,   0,\n",
              "          0,   0,   0,   0,   0,   0,   0,   0,   0,   0,   0,   0,   0,\n",
              "          0,   0]], dtype=uint8)"
            ]
          },
          "metadata": {},
          "execution_count": 6
        }
      ]
    },
    {
      "cell_type": "code",
      "source": [
        "plt.figure()\n",
        "plt.imshow(train_images[0])\n",
        "plt.colorbar()\n",
        "plt.grid(False)\n",
        "plt.show()"
      ],
      "metadata": {
        "colab": {
          "base_uri": "https://localhost:8080/",
          "height": 265
        },
        "id": "b2T6hQbAW3Ni",
        "outputId": "227afbfb-2b7d-4d48-c0fa-c6a4964b49e0"
      },
      "execution_count": null,
      "outputs": [
        {
          "output_type": "display_data",
          "data": {
            "text/plain": [
              "<Figure size 432x288 with 2 Axes>"
            ],
            "image/png": "[encoded data removed]"
          },
          "metadata": {
            "needs_background": "light"
          }
        }
      ]
    },
    {
      "cell_type": "code",
      "source": [
        "train_labels[0]"
      ],
      "metadata": {
        "colab": {
          "base_uri": "https://localhost:8080/"
        },
        "id": "ELAy0EenXARj",
        "outputId": "139d767b-4db3-4731-e191-7c7b1a23a44f"
      },
      "execution_count": null,
      "outputs": [
        {
          "output_type": "execute_result",
          "data": {
            "text/plain": [
              "5"
            ]
          },
          "metadata": {},
          "execution_count": 8
        }
      ]
    },
    {
      "cell_type": "markdown",
      "source": [
        "## Step 1-2. Input tensor 와 Target tensor 전처리"
      ],
      "metadata": {
        "id": "i3UzJccUByVc"
      }
    },
    {
      "cell_type": "code",
      "source": [
        "# (60000, 28, 28) => (60000, 28*28)\n",
        "train_images = train_images.reshape((60000, 28*28))"
      ],
      "metadata": {
        "id": "N2NHRgXPXXKt"
      },
      "execution_count": null,
      "outputs": []
    },
    {
      "cell_type": "code",
      "source": [
        "print(train_images.shape)"
      ],
      "metadata": {
        "colab": {
          "base_uri": "https://localhost:8080/"
        },
        "id": "m9-YvH_vXgkU",
        "outputId": "c90e58ab-e2f5-4d35-f4e9-6f913da651da"
      },
      "execution_count": null,
      "outputs": [
        {
          "output_type": "stream",
          "name": "stdout",
          "text": [
            "(60000, 784)\n"
          ]
        }
      ]
    },
    {
      "cell_type": "code",
      "source": [
        "print(test_images.shape)"
      ],
      "metadata": {
        "colab": {
          "base_uri": "https://localhost:8080/"
        },
        "id": "iU8ZM1UNXjfF",
        "outputId": "fe2c074f-dfc4-45a9-8452-9f4a5137f1d7"
      },
      "execution_count": null,
      "outputs": [
        {
          "output_type": "stream",
          "name": "stdout",
          "text": [
            "(10000, 28, 28)\n"
          ]
        }
      ]
    },
    {
      "cell_type": "code",
      "source": [
        "test_images = test_images.reshape((10000, 28*28))"
      ],
      "metadata": {
        "id": "qsinCKIOXkif"
      },
      "execution_count": null,
      "outputs": []
    },
    {
      "cell_type": "code",
      "source": [
        "print(test_images.shape)"
      ],
      "metadata": {
        "colab": {
          "base_uri": "https://localhost:8080/"
        },
        "id": "KI5LtW1dX7VL",
        "outputId": "be991988-9d6a-480c-ad34-b153845122a5"
      },
      "execution_count": null,
      "outputs": [
        {
          "output_type": "stream",
          "name": "stdout",
          "text": [
            "(10000, 784)\n"
          ]
        }
      ]
    },
    {
      "cell_type": "markdown",
      "source": [
        "# Step 2. 모델에 데이터를 입력할 data pipeline 생성"
      ],
      "metadata": {
        "id": "S7XIjEPuCxul"
      }
    },
    {
      "cell_type": "code",
      "source": [
        "train_x = torch.Tensor(data=train_images)\n",
        "train_y = torch.LongTensor(data=train_labels)\n",
        "\n",
        "test_x = torch.Tensor(data=test_images)\n",
        "test_y = torch.LongTensor(data=test_labels)"
      ],
      "metadata": {
        "id": "oSQamGtwJ7MA"
      },
      "execution_count": null,
      "outputs": []
    },
    {
      "cell_type": "code",
      "source": [
        "train_x[0]"
      ],
      "metadata": {
        "colab": {
          "base_uri": "https://localhost:8080/"
        },
        "id": "m6WAFj25EUcK",
        "outputId": "fa025da2-aa0a-4168-f1ab-0aae3c4498e3"
      },
      "execution_count": null,
      "outputs": [
        {
          "output_type": "execute_result",
          "data": {
            "text/plain": [
              "tensor([  0.,   0.,   0.,   0.,   0.,   0.,   0.,   0.,   0.,   0.,   0.,   0.,\n",
              "          0.,   0.,   0.,   0.,   0.,   0.,   0.,   0.,   0.,   0.,   0.,   0.,\n",
              "          0.,   0.,   0.,   0.,   0.,   0.,   0.,   0.,   0.,   0.,   0.,   0.,\n",
              "          0.,   0.,   0.,   0.,   0.,   0.,   0.,   0.,   0.,   0.,   0.,   0.,\n",
              "          0.,   0.,   0.,   0.,   0.,   0.,   0.,   0.,   0.,   0.,   0.,   0.,\n",
              "          0.,   0.,   0.,   0.,   0.,   0.,   0.,   0.,   0.,   0.,   0.,   0.,\n",
              "          0.,   0.,   0.,   0.,   0.,   0.,   0.,   0.,   0.,   0.,   0.,   0.,\n",
              "          0.,   0.,   0.,   0.,   0.,   0.,   0.,   0.,   0.,   0.,   0.,   0.,\n",
              "          0.,   0.,   0.,   0.,   0.,   0.,   0.,   0.,   0.,   0.,   0.,   0.,\n",
              "          0.,   0.,   0.,   0.,   0.,   0.,   0.,   0.,   0.,   0.,   0.,   0.,\n",
              "          0.,   0.,   0.,   0.,   0.,   0.,   0.,   0.,   0.,   0.,   0.,   0.,\n",
              "          0.,   0.,   0.,   0.,   0.,   0.,   0.,   0.,   0.,   0.,   0.,   0.,\n",
              "          0.,   0.,   0.,   0.,   0.,   0.,   0.,   0.,   3.,  18.,  18.,  18.,\n",
              "        126., 136., 175.,  26., 166., 255., 247., 127.,   0.,   0.,   0.,   0.,\n",
              "          0.,   0.,   0.,   0.,   0.,   0.,   0.,   0.,  30.,  36.,  94., 154.,\n",
              "        170., 253., 253., 253., 253., 253., 225., 172., 253., 242., 195.,  64.,\n",
              "          0.,   0.,   0.,   0.,   0.,   0.,   0.,   0.,   0.,   0.,   0.,  49.,\n",
              "        238., 253., 253., 253., 253., 253., 253., 253., 253., 251.,  93.,  82.,\n",
              "         82.,  56.,  39.,   0.,   0.,   0.,   0.,   0.,   0.,   0.,   0.,   0.,\n",
              "          0.,   0.,   0.,  18., 219., 253., 253., 253., 253., 253., 198., 182.,\n",
              "        247., 241.,   0.,   0.,   0.,   0.,   0.,   0.,   0.,   0.,   0.,   0.,\n",
              "          0.,   0.,   0.,   0.,   0.,   0.,   0.,   0.,  80., 156., 107., 253.,\n",
              "        253., 205.,  11.,   0.,  43., 154.,   0.,   0.,   0.,   0.,   0.,   0.,\n",
              "          0.,   0.,   0.,   0.,   0.,   0.,   0.,   0.,   0.,   0.,   0.,   0.,\n",
              "          0.,  14.,   1., 154., 253.,  90.,   0.,   0.,   0.,   0.,   0.,   0.,\n",
              "          0.,   0.,   0.,   0.,   0.,   0.,   0.,   0.,   0.,   0.,   0.,   0.,\n",
              "          0.,   0.,   0.,   0.,   0.,   0.,   0., 139., 253., 190.,   2.,   0.,\n",
              "          0.,   0.,   0.,   0.,   0.,   0.,   0.,   0.,   0.,   0.,   0.,   0.,\n",
              "          0.,   0.,   0.,   0.,   0.,   0.,   0.,   0.,   0.,   0.,   0.,  11.,\n",
              "        190., 253.,  70.,   0.,   0.,   0.,   0.,   0.,   0.,   0.,   0.,   0.,\n",
              "          0.,   0.,   0.,   0.,   0.,   0.,   0.,   0.,   0.,   0.,   0.,   0.,\n",
              "          0.,   0.,   0.,   0.,  35., 241., 225., 160., 108.,   1.,   0.,   0.,\n",
              "          0.,   0.,   0.,   0.,   0.,   0.,   0.,   0.,   0.,   0.,   0.,   0.,\n",
              "          0.,   0.,   0.,   0.,   0.,   0.,   0.,   0.,   0.,  81., 240., 253.,\n",
              "        253., 119.,  25.,   0.,   0.,   0.,   0.,   0.,   0.,   0.,   0.,   0.,\n",
              "          0.,   0.,   0.,   0.,   0.,   0.,   0.,   0.,   0.,   0.,   0.,   0.,\n",
              "          0.,   0.,  45., 186., 253., 253., 150.,  27.,   0.,   0.,   0.,   0.,\n",
              "          0.,   0.,   0.,   0.,   0.,   0.,   0.,   0.,   0.,   0.,   0.,   0.,\n",
              "          0.,   0.,   0.,   0.,   0.,   0.,   0.,  16.,  93., 252., 253., 187.,\n",
              "          0.,   0.,   0.,   0.,   0.,   0.,   0.,   0.,   0.,   0.,   0.,   0.,\n",
              "          0.,   0.,   0.,   0.,   0.,   0.,   0.,   0.,   0.,   0.,   0.,   0.,\n",
              "          0., 249., 253., 249.,  64.,   0.,   0.,   0.,   0.,   0.,   0.,   0.,\n",
              "          0.,   0.,   0.,   0.,   0.,   0.,   0.,   0.,   0.,   0.,   0.,   0.,\n",
              "          0.,   0.,  46., 130., 183., 253., 253., 207.,   2.,   0.,   0.,   0.,\n",
              "          0.,   0.,   0.,   0.,   0.,   0.,   0.,   0.,   0.,   0.,   0.,   0.,\n",
              "          0.,   0.,   0.,   0.,  39., 148., 229., 253., 253., 253., 250., 182.,\n",
              "          0.,   0.,   0.,   0.,   0.,   0.,   0.,   0.,   0.,   0.,   0.,   0.,\n",
              "          0.,   0.,   0.,   0.,   0.,   0.,  24., 114., 221., 253., 253., 253.,\n",
              "        253., 201.,  78.,   0.,   0.,   0.,   0.,   0.,   0.,   0.,   0.,   0.,\n",
              "          0.,   0.,   0.,   0.,   0.,   0.,   0.,   0.,  23.,  66., 213., 253.,\n",
              "        253., 253., 253., 198.,  81.,   2.,   0.,   0.,   0.,   0.,   0.,   0.,\n",
              "          0.,   0.,   0.,   0.,   0.,   0.,   0.,   0.,   0.,   0.,  18., 171.,\n",
              "        219., 253., 253., 253., 253., 195.,  80.,   9.,   0.,   0.,   0.,   0.,\n",
              "          0.,   0.,   0.,   0.,   0.,   0.,   0.,   0.,   0.,   0.,   0.,   0.,\n",
              "         55., 172., 226., 253., 253., 253., 253., 244., 133.,  11.,   0.,   0.,\n",
              "          0.,   0.,   0.,   0.,   0.,   0.,   0.,   0.,   0.,   0.,   0.,   0.,\n",
              "          0.,   0.,   0.,   0., 136., 253., 253., 253., 212., 135., 132.,  16.,\n",
              "          0.,   0.,   0.,   0.,   0.,   0.,   0.,   0.,   0.,   0.,   0.,   0.,\n",
              "          0.,   0.,   0.,   0.,   0.,   0.,   0.,   0.,   0.,   0.,   0.,   0.,\n",
              "          0.,   0.,   0.,   0.,   0.,   0.,   0.,   0.,   0.,   0.,   0.,   0.,\n",
              "          0.,   0.,   0.,   0.,   0.,   0.,   0.,   0.,   0.,   0.,   0.,   0.,\n",
              "          0.,   0.,   0.,   0.,   0.,   0.,   0.,   0.,   0.,   0.,   0.,   0.,\n",
              "          0.,   0.,   0.,   0.,   0.,   0.,   0.,   0.,   0.,   0.,   0.,   0.,\n",
              "          0.,   0.,   0.,   0.,   0.,   0.,   0.,   0.,   0.,   0.,   0.,   0.,\n",
              "          0.,   0.,   0.,   0.,   0.,   0.,   0.,   0.,   0.,   0.,   0.,   0.,\n",
              "          0.,   0.,   0.,   0.])"
            ]
          },
          "metadata": {},
          "execution_count": 15
        }
      ]
    },
    {
      "cell_type": "code",
      "source": [
        "train_x.shape"
      ],
      "metadata": {
        "colab": {
          "base_uri": "https://localhost:8080/"
        },
        "id": "fz1RFFc6FJIO",
        "outputId": "f9f4520a-a9fe-4d60-bb67-5f04f9d3e72c"
      },
      "execution_count": null,
      "outputs": [
        {
          "output_type": "execute_result",
          "data": {
            "text/plain": [
              "torch.Size([60000, 784])"
            ]
          },
          "metadata": {},
          "execution_count": 16
        }
      ]
    },
    {
      "cell_type": "code",
      "source": [
        "train_x.dtype"
      ],
      "metadata": {
        "colab": {
          "base_uri": "https://localhost:8080/"
        },
        "id": "yp_AYuJgFLNb",
        "outputId": "2512d9d9-7f93-43fe-9958-94c85247e969"
      },
      "execution_count": null,
      "outputs": [
        {
          "output_type": "execute_result",
          "data": {
            "text/plain": [
              "torch.float32"
            ]
          },
          "metadata": {},
          "execution_count": 17
        }
      ]
    },
    {
      "cell_type": "code",
      "source": [
        "train_y.shape"
      ],
      "metadata": {
        "colab": {
          "base_uri": "https://localhost:8080/"
        },
        "id": "odI_C-3CFO1F",
        "outputId": "21c18b2a-9d28-4806-f553-dece3142f1d9"
      },
      "execution_count": null,
      "outputs": [
        {
          "output_type": "execute_result",
          "data": {
            "text/plain": [
              "torch.Size([60000])"
            ]
          },
          "metadata": {},
          "execution_count": 18
        }
      ]
    },
    {
      "cell_type": "code",
      "source": [
        "train_y.dtype"
      ],
      "metadata": {
        "colab": {
          "base_uri": "https://localhost:8080/"
        },
        "id": "AfvN3dibFQ8n",
        "outputId": "b365f5e6-fd12-4bcf-f024-e7017e661f99"
      },
      "execution_count": null,
      "outputs": [
        {
          "output_type": "execute_result",
          "data": {
            "text/plain": [
              "torch.int64"
            ]
          },
          "metadata": {},
          "execution_count": 19
        }
      ]
    },
    {
      "cell_type": "code",
      "source": [
        "train_dataset = torch.utils.data.TensorDataset(train_x, train_y)\n",
        "train_dataset, validatioin_dataset = torch.utils.data.random_split(dataset=train_dataset,\n",
        "                                                                   lengths=[50000, 10000])\n",
        "test_dataset = torch.utils.data.TensorDataset(test_x, test_y)"
      ],
      "metadata": {
        "id": "7vq-QsYXKa71"
      },
      "execution_count": null,
      "outputs": []
    },
    {
      "cell_type": "code",
      "source": [
        "x, y = next(iter(train_dataset))"
      ],
      "metadata": {
        "id": "edGSN9ssG9RO"
      },
      "execution_count": null,
      "outputs": []
    },
    {
      "cell_type": "code",
      "source": [
        "x.shape"
      ],
      "metadata": {
        "colab": {
          "base_uri": "https://localhost:8080/"
        },
        "id": "njhMkGZpH8Tl",
        "outputId": "5f5bc8cd-bb9b-4f4a-dd36-99ab3daa1913"
      },
      "execution_count": null,
      "outputs": [
        {
          "output_type": "execute_result",
          "data": {
            "text/plain": [
              "torch.Size([784])"
            ]
          },
          "metadata": {},
          "execution_count": 22
        }
      ]
    },
    {
      "cell_type": "code",
      "source": [
        "batch_size = 64"
      ],
      "metadata": {
        "id": "IsKRHfKvHv7Z"
      },
      "execution_count": null,
      "outputs": []
    },
    {
      "cell_type": "code",
      "source": [
        "# Data Loader (Input Pipeline)\n",
        "train_loader = torch.utils.data.DataLoader(dataset=train_dataset,\n",
        "                                           batch_size=batch_size,\n",
        "                                           shuffle=True)\n",
        "validation_loader = torch.utils.data.DataLoader(dataset=validatioin_dataset,\n",
        "                                                batch_size=batch_size,\n",
        "                                                shuffle=False)\n",
        "test_loader = torch.utils.data.DataLoader(dataset=test_dataset,\n",
        "                                          batch_size=batch_size,\n",
        "                                          shuffle=False)"
      ],
      "metadata": {
        "id": "2s1zgRh8JWzH"
      },
      "execution_count": null,
      "outputs": []
    },
    {
      "cell_type": "code",
      "source": [
        "x, y = next(iter(train_loader))"
      ],
      "metadata": {
        "id": "E-3xhogpH6RW"
      },
      "execution_count": null,
      "outputs": []
    },
    {
      "cell_type": "code",
      "source": [
        "x.shape"
      ],
      "metadata": {
        "colab": {
          "base_uri": "https://localhost:8080/"
        },
        "id": "ZMn8pGvDIDsd",
        "outputId": "6bb81b16-1497-4b98-da21-13c39f2356d7"
      },
      "execution_count": null,
      "outputs": [
        {
          "output_type": "execute_result",
          "data": {
            "text/plain": [
              "torch.Size([64, 784])"
            ]
          },
          "metadata": {},
          "execution_count": 26
        }
      ]
    },
    {
      "cell_type": "code",
      "source": [
        "y"
      ],
      "metadata": {
        "colab": {
          "base_uri": "https://localhost:8080/"
        },
        "id": "PQ02gI4-IH0x",
        "outputId": "6d5b8a1a-d795-467d-bb56-5c6ebd41b548"
      },
      "execution_count": null,
      "outputs": [
        {
          "output_type": "execute_result",
          "data": {
            "text/plain": [
              "tensor([7, 8, 0, 7, 0, 0, 7, 5, 5, 4, 9, 0, 8, 1, 3, 2, 9, 7, 1, 7, 5, 2, 3, 7,\n",
              "        8, 2, 2, 1, 5, 6, 3, 1, 7, 8, 5, 3, 0, 0, 1, 8, 3, 9, 4, 1, 7, 3, 0, 6,\n",
              "        5, 8, 8, 1, 4, 8, 7, 8, 2, 2, 6, 3, 0, 7, 4, 6])"
            ]
          },
          "metadata": {},
          "execution_count": 27
        }
      ]
    },
    {
      "cell_type": "markdown",
      "source": [
        "# Step 3. MLP 모델 정의"
      ],
      "metadata": {
        "id": "-Qbs_JOnIdA8"
      }
    },
    {
      "cell_type": "markdown",
      "source": [
        "## Step 3-1. 모델 객체 정의"
      ],
      "metadata": {
        "id": "YyQWG-wYKJy4"
      }
    },
    {
      "cell_type": "code",
      "source": [
        "model = torch.nn.Sequential()"
      ],
      "metadata": {
        "id": "SmlT1ul_Fjc6"
      },
      "execution_count": null,
      "outputs": []
    },
    {
      "cell_type": "code",
      "source": [
        "# 설명 코드\n",
        "type(model)"
      ],
      "metadata": {
        "colab": {
          "base_uri": "https://localhost:8080/"
        },
        "id": "b9KF0jaY_F5Z",
        "outputId": "54116153-8647-4b69-9a1e-ba103b9e42c6"
      },
      "execution_count": null,
      "outputs": [
        {
          "output_type": "execute_result",
          "data": {
            "text/plain": [
              "torch.nn.modules.container.Sequential"
            ]
          },
          "metadata": {},
          "execution_count": 29
        }
      ]
    },
    {
      "cell_type": "code",
      "source": [
        "# 설명 코드\n",
        "model"
      ],
      "metadata": {
        "colab": {
          "base_uri": "https://localhost:8080/"
        },
        "id": "b9UmHed2_L_m",
        "outputId": "863f598f-4d11-4c5c-f42f-da8606f69a6c"
      },
      "execution_count": null,
      "outputs": [
        {
          "output_type": "execute_result",
          "data": {
            "text/plain": [
              "Sequential()"
            ]
          },
          "metadata": {},
          "execution_count": 30
        }
      ]
    },
    {
      "cell_type": "code",
      "source": [
        "model.append(module=torch.nn.Linear(in_features=784, out_features=256, bias=True))\n",
        "model.append(module=torch.nn.ReLU())\n",
        "model.append(module=torch.nn.Linear(in_features=256, out_features=10, bias=True))"
      ],
      "metadata": {
        "colab": {
          "base_uri": "https://localhost:8080/"
        },
        "id": "uvdiSsqHFrGj",
        "outputId": "bfce376b-9746-4caf-bfe5-a68f3e01b168"
      },
      "execution_count": null,
      "outputs": [
        {
          "output_type": "execute_result",
          "data": {
            "text/plain": [
              "Sequential(\n",
              "  (0): Linear(in_features=784, out_features=256, bias=True)\n",
              "  (1): ReLU()\n",
              "  (2): Linear(in_features=256, out_features=10, bias=True)\n",
              ")"
            ]
          },
          "metadata": {},
          "execution_count": 31
        }
      ]
    },
    {
      "cell_type": "markdown",
      "source": [
        "## Step 3-2. 학습을 위해 필요한 정보 설정"
      ],
      "metadata": {
        "id": "Glac0KIAKPlK"
      }
    },
    {
      "cell_type": "code",
      "source": [
        "loss = torch.nn.CrossEntropyLoss()\n",
        "optimizer = torch.optim.RMSprop(model.parameters(), lr=1e-3)"
      ],
      "metadata": {
        "id": "SUhdDAL2gGiN"
      },
      "execution_count": null,
      "outputs": []
    },
    {
      "cell_type": "code",
      "source": [
        "# 설명 코드\n",
        "for param in model.parameters():\n",
        "  print(param.shape)"
      ],
      "metadata": {
        "colab": {
          "base_uri": "https://localhost:8080/"
        },
        "id": "ihBPabCoEwb9",
        "outputId": "8a15fea2-99e2-4dcf-cdad-bc3137cdb0de"
      },
      "execution_count": null,
      "outputs": [
        {
          "output_type": "stream",
          "name": "stdout",
          "text": [
            "torch.Size([256, 784])\n",
            "torch.Size([256])\n",
            "torch.Size([10, 256])\n",
            "torch.Size([10])\n"
          ]
        }
      ]
    },
    {
      "cell_type": "code",
      "source": [
        "from torchsummary import summary"
      ],
      "metadata": {
        "id": "niRGCuOEzp24"
      },
      "execution_count": null,
      "outputs": []
    },
    {
      "cell_type": "code",
      "source": [
        "summary(model=model,\n",
        "        input_size=(1,784),\n",
        "        batch_size=batch_size)"
      ],
      "metadata": {
        "colab": {
          "base_uri": "https://localhost:8080/"
        },
        "id": "Dj5nLnkdOi4s",
        "outputId": "83921db0-7a23-4a93-8e61-c2e0ab48f0e7"
      },
      "execution_count": null,
      "outputs": [
        {
          "output_type": "stream",
          "name": "stdout",
          "text": [
            "----------------------------------------------------------------\n",
            "        Layer (type)               Output Shape         Param #\n",
            "================================================================\n",
            "            Linear-1               [64, 1, 256]         200,960\n",
            "              ReLU-2               [64, 1, 256]               0\n",
            "            Linear-3                [64, 1, 10]           2,570\n",
            "================================================================\n",
            "Total params: 203,530\n",
            "Trainable params: 203,530\n",
            "Non-trainable params: 0\n",
            "----------------------------------------------------------------\n",
            "Input size (MB): 0.19\n",
            "Forward/backward pass size (MB): 0.25\n",
            "Params size (MB): 0.78\n",
            "Estimated Total Size (MB): 1.22\n",
            "----------------------------------------------------------------\n"
          ]
        }
      ]
    },
    {
      "cell_type": "code",
      "source": [
        "history = {\n",
        "    'loss': [],\n",
        "    'val_loss' : [],\n",
        "    'acc': [],\n",
        "    'val_acc' : []\n",
        "}"
      ],
      "metadata": {
        "id": "HpN39niFQNey"
      },
      "execution_count": null,
      "outputs": []
    },
    {
      "cell_type": "markdown",
      "source": [
        "## Step 4. 모델의 학습 loop 정의"
      ],
      "metadata": {
        "id": "S-ciCBcRLMwY"
      }
    },
    {
      "cell_type": "code",
      "source": [
        "def train(epoch):\n",
        "  model.train()\n",
        "\n",
        "  train_loss = 0\n",
        "  correct = 0\n",
        "  \n",
        "  for batch_idx,(data, target) in enumerate(train_loader):    \n",
        "    # 모델의 순전파 수행\n",
        "    output = model(data)\n",
        "    \n",
        "    # loss 함수에 모델의 예측값 과 정답 정보를 전달하여 loss 값 계산\n",
        "    batch_loss = loss(output, target)\n",
        "\n",
        "    # optimizer 초기화\n",
        "    optimizer.zero_grad()\n",
        "    \n",
        "    # 모델을 구성하는 파라미터들(w, b)이 loss 에 미치는 영향도 계산\n",
        "    batch_loss.backward()\n",
        "    \n",
        "    # 계산된 영향도(gradient) 값을 이용하여 파라미터(w,b) 업데이트\n",
        "    optimizer.step()\n",
        "\n",
        "    # 모델의 성능 모니터링을 위한 정보 계산 및 수집\n",
        "    correct += (output.argmax(dim=1) == target).type(torch.float).sum().item()\n",
        "    train_loss += batch_loss.item()\n",
        "\n",
        "    if batch_idx%50 == 0:\n",
        "      print('Train Epoch: {} [{}/{} ({:.0f}%)]\\tLoss: {:.6f}\\tAccuracy: {:.2f}%'.format(\n",
        "            epoch,\n",
        "            (batch_idx+1) * len(data),\n",
        "            len(train_loader.dataset),\n",
        "            100. * (batch_idx+1) / len(train_loader),\n",
        "            batch_loss.item(),\n",
        "            100. * correct / ((batch_idx+1) * len(data))\n",
        "            ))\n",
        "    \n",
        "  history['loss'].append(train_loss / len(train_loader))\n",
        "  history['acc'].append(100. * correct / len(train_loader.dataset))"
      ],
      "metadata": {
        "id": "uAZElZOeO5LR"
      },
      "execution_count": null,
      "outputs": []
    },
    {
      "cell_type": "code",
      "source": [
        "def test(data_loader):\n",
        "  model.eval()\n",
        "  \n",
        "  test_loss = 0\n",
        "  correct = 0\n",
        "  \n",
        "  for data, target in data_loader:\n",
        "    output = model(data)\n",
        "    \n",
        "    test_loss += loss(output, target).item()\n",
        "    correct += (output.argmax(dim=1) == target).type(torch.float).sum().item()\n",
        "    \n",
        "  test_loss /= len(test_loader)\n",
        "  accuracy = 100. * correct / len(validation_loader.dataset)\n",
        "  \n",
        "  print('\\nTest set: Average loss: {:.4f}, Accuracy: {:.0f}%\\n'.format(\n",
        "        test_loss,\n",
        "        accuracy))\n",
        "  \n",
        "  history['val_loss'].append(test_loss)\n",
        "  history['val_acc'].append(accuracy)"
      ],
      "metadata": {
        "id": "uubKlJpsRy7j"
      },
      "execution_count": null,
      "outputs": []
    },
    {
      "cell_type": "code",
      "source": [
        "epochs = 30"
      ],
      "metadata": {
        "id": "02OswBlQSpX6"
      },
      "execution_count": null,
      "outputs": []
    },
    {
      "cell_type": "code",
      "source": [
        "for epoch in range(1, epochs):\n",
        "  train(epoch)\n",
        "  test(validation_loader)"
      ],
      "metadata": {
        "colab": {
          "base_uri": "https://localhost:8080/"
        },
        "id": "do5UyofUSz1F",
        "outputId": "cd114b46-9ee8-44a1-e461-dbb972481c1f"
      },
      "execution_count": null,
      "outputs": [
        {
          "output_type": "stream",
          "name": "stdout",
          "text": [
            "Train Epoch: 1 [64/50000 (0%)]\tLoss: 35.177578\tAccuracy: 9.38%\n",
            "Train Epoch: 1 [3264/50000 (7%)]\tLoss: 1.789542\tAccuracy: 72.30%\n",
            "Train Epoch: 1 [6464/50000 (13%)]\tLoss: 0.394166\tAccuracy: 79.32%\n",
            "Train Epoch: 1 [9664/50000 (19%)]\tLoss: 0.894793\tAccuracy: 82.08%\n",
            "Train Epoch: 1 [12864/50000 (26%)]\tLoss: 0.520561\tAccuracy: 83.68%\n",
            "Train Epoch: 1 [16064/50000 (32%)]\tLoss: 0.194152\tAccuracy: 84.71%\n",
            "Train Epoch: 1 [19264/50000 (38%)]\tLoss: 0.591015\tAccuracy: 85.63%\n",
            "Train Epoch: 1 [22464/50000 (45%)]\tLoss: 0.262228\tAccuracy: 86.24%\n",
            "Train Epoch: 1 [25664/50000 (51%)]\tLoss: 0.248279\tAccuracy: 86.78%\n",
            "Train Epoch: 1 [28864/50000 (58%)]\tLoss: 0.111745\tAccuracy: 87.39%\n",
            "Train Epoch: 1 [32064/50000 (64%)]\tLoss: 0.428152\tAccuracy: 87.79%\n",
            "Train Epoch: 1 [35264/50000 (70%)]\tLoss: 0.258263\tAccuracy: 88.15%\n",
            "Train Epoch: 1 [38464/50000 (77%)]\tLoss: 0.321932\tAccuracy: 88.43%\n",
            "Train Epoch: 1 [41664/50000 (83%)]\tLoss: 0.289560\tAccuracy: 88.65%\n",
            "Train Epoch: 1 [44864/50000 (90%)]\tLoss: 0.211590\tAccuracy: 88.91%\n",
            "Train Epoch: 1 [48064/50000 (96%)]\tLoss: 0.183874\tAccuracy: 89.11%\n",
            "\n",
            "Test set: Average loss: 0.4399, Accuracy: 88%\n",
            "\n",
            "Train Epoch: 2 [64/50000 (0%)]\tLoss: 0.564064\tAccuracy: 84.38%\n",
            "Train Epoch: 2 [3264/50000 (7%)]\tLoss: 0.442682\tAccuracy: 94.06%\n",
            "Train Epoch: 2 [6464/50000 (13%)]\tLoss: 0.142826\tAccuracy: 93.33%\n",
            "Train Epoch: 2 [9664/50000 (19%)]\tLoss: 0.097485\tAccuracy: 93.55%\n",
            "Train Epoch: 2 [12864/50000 (26%)]\tLoss: 0.242633\tAccuracy: 93.35%\n",
            "Train Epoch: 2 [16064/50000 (32%)]\tLoss: 0.170243\tAccuracy: 93.33%\n",
            "Train Epoch: 2 [19264/50000 (38%)]\tLoss: 0.056270\tAccuracy: 93.43%\n",
            "Train Epoch: 2 [22464/50000 (45%)]\tLoss: 0.176471\tAccuracy: 93.62%\n",
            "Train Epoch: 2 [25664/50000 (51%)]\tLoss: 0.362610\tAccuracy: 93.70%\n",
            "Train Epoch: 2 [28864/50000 (58%)]\tLoss: 0.051539\tAccuracy: 93.75%\n",
            "Train Epoch: 2 [32064/50000 (64%)]\tLoss: 0.141168\tAccuracy: 93.65%\n",
            "Train Epoch: 2 [35264/50000 (70%)]\tLoss: 0.307917\tAccuracy: 93.75%\n",
            "Train Epoch: 2 [38464/50000 (77%)]\tLoss: 0.445011\tAccuracy: 93.80%\n",
            "Train Epoch: 2 [41664/50000 (83%)]\tLoss: 0.093129\tAccuracy: 93.83%\n",
            "Train Epoch: 2 [44864/50000 (90%)]\tLoss: 0.108720\tAccuracy: 93.88%\n",
            "Train Epoch: 2 [48064/50000 (96%)]\tLoss: 0.154448\tAccuracy: 93.91%\n",
            "\n",
            "Test set: Average loss: 0.3003, Accuracy: 92%\n",
            "\n",
            "Train Epoch: 3 [64/50000 (0%)]\tLoss: 0.126605\tAccuracy: 93.75%\n",
            "Train Epoch: 3 [3264/50000 (7%)]\tLoss: 0.204171\tAccuracy: 95.89%\n",
            "Train Epoch: 3 [6464/50000 (13%)]\tLoss: 0.334395\tAccuracy: 95.11%\n",
            "Train Epoch: 3 [9664/50000 (19%)]\tLoss: 0.218798\tAccuracy: 95.14%\n",
            "Train Epoch: 3 [12864/50000 (26%)]\tLoss: 0.125555\tAccuracy: 95.10%\n",
            "Train Epoch: 3 [16064/50000 (32%)]\tLoss: 0.102480\tAccuracy: 95.32%\n",
            "Train Epoch: 3 [19264/50000 (38%)]\tLoss: 0.028998\tAccuracy: 95.35%\n",
            "Train Epoch: 3 [22464/50000 (45%)]\tLoss: 0.284367\tAccuracy: 95.38%\n",
            "Train Epoch: 3 [25664/50000 (51%)]\tLoss: 0.076422\tAccuracy: 95.34%\n",
            "Train Epoch: 3 [28864/50000 (58%)]\tLoss: 0.174853\tAccuracy: 95.31%\n",
            "Train Epoch: 3 [32064/50000 (64%)]\tLoss: 0.399184\tAccuracy: 95.28%\n",
            "Train Epoch: 3 [35264/50000 (70%)]\tLoss: 0.272256\tAccuracy: 95.18%\n",
            "Train Epoch: 3 [38464/50000 (77%)]\tLoss: 0.116415\tAccuracy: 95.24%\n",
            "Train Epoch: 3 [41664/50000 (83%)]\tLoss: 0.336271\tAccuracy: 95.22%\n",
            "Train Epoch: 3 [44864/50000 (90%)]\tLoss: 0.156295\tAccuracy: 95.20%\n",
            "Train Epoch: 3 [48064/50000 (96%)]\tLoss: 0.078114\tAccuracy: 95.19%\n",
            "\n",
            "Test set: Average loss: 0.2470, Accuracy: 95%\n",
            "\n",
            "Train Epoch: 4 [64/50000 (0%)]\tLoss: 0.130263\tAccuracy: 96.88%\n",
            "Train Epoch: 4 [3264/50000 (7%)]\tLoss: 0.116196\tAccuracy: 95.96%\n",
            "Train Epoch: 4 [6464/50000 (13%)]\tLoss: 0.040056\tAccuracy: 95.76%\n",
            "Train Epoch: 4 [9664/50000 (19%)]\tLoss: 0.137896\tAccuracy: 95.76%\n",
            "Train Epoch: 4 [12864/50000 (26%)]\tLoss: 0.023393\tAccuracy: 95.88%\n",
            "Train Epoch: 4 [16064/50000 (32%)]\tLoss: 0.131698\tAccuracy: 95.86%\n",
            "Train Epoch: 4 [19264/50000 (38%)]\tLoss: 0.089471\tAccuracy: 95.89%\n",
            "Train Epoch: 4 [22464/50000 (45%)]\tLoss: 0.249578\tAccuracy: 95.79%\n",
            "Train Epoch: 4 [25664/50000 (51%)]\tLoss: 0.153225\tAccuracy: 95.81%\n",
            "Train Epoch: 4 [28864/50000 (58%)]\tLoss: 0.343163\tAccuracy: 95.83%\n",
            "Train Epoch: 4 [32064/50000 (64%)]\tLoss: 0.078786\tAccuracy: 95.83%\n",
            "Train Epoch: 4 [35264/50000 (70%)]\tLoss: 0.055371\tAccuracy: 95.82%\n",
            "Train Epoch: 4 [38464/50000 (77%)]\tLoss: 0.321319\tAccuracy: 95.85%\n",
            "Train Epoch: 4 [41664/50000 (83%)]\tLoss: 0.009623\tAccuracy: 95.81%\n",
            "Train Epoch: 4 [44864/50000 (90%)]\tLoss: 0.167987\tAccuracy: 95.81%\n",
            "Train Epoch: 4 [48064/50000 (96%)]\tLoss: 0.176099\tAccuracy: 95.78%\n",
            "\n",
            "Test set: Average loss: 0.2066, Accuracy: 96%\n",
            "\n",
            "Train Epoch: 5 [64/50000 (0%)]\tLoss: 0.396419\tAccuracy: 95.31%\n",
            "Train Epoch: 5 [3264/50000 (7%)]\tLoss: 0.217609\tAccuracy: 97.24%\n",
            "Train Epoch: 5 [6464/50000 (13%)]\tLoss: 0.112945\tAccuracy: 97.01%\n",
            "Train Epoch: 5 [9664/50000 (19%)]\tLoss: 0.133910\tAccuracy: 96.63%\n",
            "Train Epoch: 5 [12864/50000 (26%)]\tLoss: 0.019566\tAccuracy: 96.66%\n",
            "Train Epoch: 5 [16064/50000 (32%)]\tLoss: 0.101226\tAccuracy: 96.63%\n",
            "Train Epoch: 5 [19264/50000 (38%)]\tLoss: 0.394120\tAccuracy: 96.60%\n",
            "Train Epoch: 5 [22464/50000 (45%)]\tLoss: 0.387686\tAccuracy: 96.49%\n",
            "Train Epoch: 5 [25664/50000 (51%)]\tLoss: 0.172409\tAccuracy: 96.39%\n",
            "Train Epoch: 5 [28864/50000 (58%)]\tLoss: 0.115924\tAccuracy: 96.37%\n",
            "Train Epoch: 5 [32064/50000 (64%)]\tLoss: 0.042178\tAccuracy: 96.40%\n",
            "Train Epoch: 5 [35264/50000 (70%)]\tLoss: 0.064757\tAccuracy: 96.42%\n",
            "Train Epoch: 5 [38464/50000 (77%)]\tLoss: 0.032980\tAccuracy: 96.35%\n",
            "Train Epoch: 5 [41664/50000 (83%)]\tLoss: 0.219569\tAccuracy: 96.33%\n",
            "Train Epoch: 5 [44864/50000 (90%)]\tLoss: 0.052773\tAccuracy: 96.28%\n",
            "Train Epoch: 5 [48064/50000 (96%)]\tLoss: 0.077957\tAccuracy: 96.24%\n",
            "\n",
            "Test set: Average loss: 0.2959, Accuracy: 94%\n",
            "\n",
            "Train Epoch: 6 [64/50000 (0%)]\tLoss: 0.129553\tAccuracy: 98.44%\n",
            "Train Epoch: 6 [3264/50000 (7%)]\tLoss: 0.269203\tAccuracy: 96.48%\n",
            "Train Epoch: 6 [6464/50000 (13%)]\tLoss: 0.213603\tAccuracy: 96.75%\n",
            "Train Epoch: 6 [9664/50000 (19%)]\tLoss: 0.090143\tAccuracy: 96.89%\n",
            "Train Epoch: 6 [12864/50000 (26%)]\tLoss: 0.220136\tAccuracy: 96.74%\n",
            "Train Epoch: 6 [16064/50000 (32%)]\tLoss: 0.143440\tAccuracy: 96.60%\n",
            "Train Epoch: 6 [19264/50000 (38%)]\tLoss: 0.904393\tAccuracy: 96.53%\n",
            "Train Epoch: 6 [22464/50000 (45%)]\tLoss: 0.016335\tAccuracy: 96.48%\n",
            "Train Epoch: 6 [25664/50000 (51%)]\tLoss: 0.040273\tAccuracy: 96.50%\n",
            "Train Epoch: 6 [28864/50000 (58%)]\tLoss: 0.127055\tAccuracy: 96.45%\n",
            "Train Epoch: 6 [32064/50000 (64%)]\tLoss: 0.076939\tAccuracy: 96.42%\n",
            "Train Epoch: 6 [35264/50000 (70%)]\tLoss: 0.142305\tAccuracy: 96.51%\n",
            "Train Epoch: 6 [38464/50000 (77%)]\tLoss: 0.369896\tAccuracy: 96.48%\n",
            "Train Epoch: 6 [41664/50000 (83%)]\tLoss: 0.077159\tAccuracy: 96.48%\n",
            "Train Epoch: 6 [44864/50000 (90%)]\tLoss: 0.400948\tAccuracy: 96.50%\n",
            "Train Epoch: 6 [48064/50000 (96%)]\tLoss: 0.102274\tAccuracy: 96.50%\n",
            "\n",
            "Test set: Average loss: 0.2888, Accuracy: 94%\n",
            "\n",
            "Train Epoch: 7 [64/50000 (0%)]\tLoss: 0.354747\tAccuracy: 93.75%\n",
            "Train Epoch: 7 [3264/50000 (7%)]\tLoss: 0.029434\tAccuracy: 96.88%\n",
            "Train Epoch: 7 [6464/50000 (13%)]\tLoss: 0.047597\tAccuracy: 96.92%\n",
            "Train Epoch: 7 [9664/50000 (19%)]\tLoss: 0.270708\tAccuracy: 96.73%\n",
            "Train Epoch: 7 [12864/50000 (26%)]\tLoss: 0.030039\tAccuracy: 96.69%\n",
            "Train Epoch: 7 [16064/50000 (32%)]\tLoss: 0.169258\tAccuracy: 96.74%\n",
            "Train Epoch: 7 [19264/50000 (38%)]\tLoss: 0.045139\tAccuracy: 96.77%\n",
            "Train Epoch: 7 [22464/50000 (45%)]\tLoss: 0.148919\tAccuracy: 96.77%\n",
            "Train Epoch: 7 [25664/50000 (51%)]\tLoss: 0.046915\tAccuracy: 96.83%\n",
            "Train Epoch: 7 [28864/50000 (58%)]\tLoss: 0.237231\tAccuracy: 96.78%\n",
            "Train Epoch: 7 [32064/50000 (64%)]\tLoss: 0.121011\tAccuracy: 96.81%\n",
            "Train Epoch: 7 [35264/50000 (70%)]\tLoss: 0.054224\tAccuracy: 96.73%\n",
            "Train Epoch: 7 [38464/50000 (77%)]\tLoss: 0.075997\tAccuracy: 96.70%\n",
            "Train Epoch: 7 [41664/50000 (83%)]\tLoss: 0.079538\tAccuracy: 96.69%\n",
            "Train Epoch: 7 [44864/50000 (90%)]\tLoss: 0.248604\tAccuracy: 96.70%\n",
            "Train Epoch: 7 [48064/50000 (96%)]\tLoss: 0.194855\tAccuracy: 96.68%\n",
            "\n",
            "Test set: Average loss: 0.2018, Accuracy: 96%\n",
            "\n",
            "Train Epoch: 8 [64/50000 (0%)]\tLoss: 0.086174\tAccuracy: 96.88%\n",
            "Train Epoch: 8 [3264/50000 (7%)]\tLoss: 0.081509\tAccuracy: 97.58%\n",
            "Train Epoch: 8 [6464/50000 (13%)]\tLoss: 0.075918\tAccuracy: 97.06%\n",
            "Train Epoch: 8 [9664/50000 (19%)]\tLoss: 0.021175\tAccuracy: 97.06%\n",
            "Train Epoch: 8 [12864/50000 (26%)]\tLoss: 0.393499\tAccuracy: 97.20%\n",
            "Train Epoch: 8 [16064/50000 (32%)]\tLoss: 0.069358\tAccuracy: 97.20%\n",
            "Train Epoch: 8 [19264/50000 (38%)]\tLoss: 0.006678\tAccuracy: 97.15%\n",
            "Train Epoch: 8 [22464/50000 (45%)]\tLoss: 0.201154\tAccuracy: 97.13%\n",
            "Train Epoch: 8 [25664/50000 (51%)]\tLoss: 0.033797\tAccuracy: 97.13%\n",
            "Train Epoch: 8 [28864/50000 (58%)]\tLoss: 0.142813\tAccuracy: 97.11%\n",
            "Train Epoch: 8 [32064/50000 (64%)]\tLoss: 0.115976\tAccuracy: 97.11%\n",
            "Train Epoch: 8 [35264/50000 (70%)]\tLoss: 0.012714\tAccuracy: 97.10%\n",
            "Train Epoch: 8 [38464/50000 (77%)]\tLoss: 0.060788\tAccuracy: 97.03%\n",
            "Train Epoch: 8 [41664/50000 (83%)]\tLoss: 0.112222\tAccuracy: 97.06%\n",
            "Train Epoch: 8 [44864/50000 (90%)]\tLoss: 0.303454\tAccuracy: 97.02%\n",
            "Train Epoch: 8 [48064/50000 (96%)]\tLoss: 0.008756\tAccuracy: 96.97%\n",
            "\n",
            "Test set: Average loss: 0.2521, Accuracy: 96%\n",
            "\n",
            "Train Epoch: 9 [64/50000 (0%)]\tLoss: 0.106102\tAccuracy: 98.44%\n",
            "Train Epoch: 9 [3264/50000 (7%)]\tLoss: 0.200051\tAccuracy: 97.89%\n",
            "Train Epoch: 9 [6464/50000 (13%)]\tLoss: 0.051781\tAccuracy: 97.56%\n",
            "Train Epoch: 9 [9664/50000 (19%)]\tLoss: 0.190036\tAccuracy: 97.55%\n",
            "Train Epoch: 9 [12864/50000 (26%)]\tLoss: 0.150670\tAccuracy: 97.48%\n",
            "Train Epoch: 9 [16064/50000 (32%)]\tLoss: 0.040830\tAccuracy: 97.44%\n",
            "Train Epoch: 9 [19264/50000 (38%)]\tLoss: 0.098866\tAccuracy: 97.28%\n",
            "Train Epoch: 9 [22464/50000 (45%)]\tLoss: 0.066653\tAccuracy: 97.20%\n",
            "Train Epoch: 9 [25664/50000 (51%)]\tLoss: 0.226738\tAccuracy: 97.16%\n",
            "Train Epoch: 9 [28864/50000 (58%)]\tLoss: 0.005666\tAccuracy: 97.23%\n",
            "Train Epoch: 9 [32064/50000 (64%)]\tLoss: 0.167777\tAccuracy: 97.26%\n",
            "Train Epoch: 9 [35264/50000 (70%)]\tLoss: 0.192307\tAccuracy: 97.27%\n",
            "Train Epoch: 9 [38464/50000 (77%)]\tLoss: 0.004219\tAccuracy: 97.23%\n",
            "Train Epoch: 9 [41664/50000 (83%)]\tLoss: 0.016063\tAccuracy: 97.22%\n",
            "Train Epoch: 9 [44864/50000 (90%)]\tLoss: 0.117519\tAccuracy: 97.19%\n",
            "Train Epoch: 9 [48064/50000 (96%)]\tLoss: 0.123788\tAccuracy: 97.22%\n",
            "\n",
            "Test set: Average loss: 0.2469, Accuracy: 96%\n",
            "\n",
            "Train Epoch: 10 [64/50000 (0%)]\tLoss: 0.024124\tAccuracy: 98.44%\n",
            "Train Epoch: 10 [3264/50000 (7%)]\tLoss: 0.022364\tAccuracy: 97.95%\n",
            "Train Epoch: 10 [6464/50000 (13%)]\tLoss: 0.000270\tAccuracy: 97.77%\n",
            "Train Epoch: 10 [9664/50000 (19%)]\tLoss: 0.386636\tAccuracy: 97.73%\n",
            "Train Epoch: 10 [12864/50000 (26%)]\tLoss: 0.546039\tAccuracy: 97.78%\n",
            "Train Epoch: 10 [16064/50000 (32%)]\tLoss: 0.094562\tAccuracy: 97.75%\n",
            "Train Epoch: 10 [19264/50000 (38%)]\tLoss: 0.077070\tAccuracy: 97.58%\n",
            "Train Epoch: 10 [22464/50000 (45%)]\tLoss: 0.193164\tAccuracy: 97.57%\n",
            "Train Epoch: 10 [25664/50000 (51%)]\tLoss: 0.031813\tAccuracy: 97.59%\n",
            "Train Epoch: 10 [28864/50000 (58%)]\tLoss: 0.234221\tAccuracy: 97.63%\n",
            "Train Epoch: 10 [32064/50000 (64%)]\tLoss: 0.037142\tAccuracy: 97.59%\n",
            "Train Epoch: 10 [35264/50000 (70%)]\tLoss: 0.077455\tAccuracy: 97.49%\n",
            "Train Epoch: 10 [38464/50000 (77%)]\tLoss: 0.325800\tAccuracy: 97.45%\n",
            "Train Epoch: 10 [41664/50000 (83%)]\tLoss: 0.051824\tAccuracy: 97.46%\n",
            "Train Epoch: 10 [44864/50000 (90%)]\tLoss: 0.000620\tAccuracy: 97.48%\n",
            "Train Epoch: 10 [48064/50000 (96%)]\tLoss: 0.013287\tAccuracy: 97.45%\n",
            "\n",
            "Test set: Average loss: 0.2935, Accuracy: 96%\n",
            "\n",
            "Train Epoch: 11 [64/50000 (0%)]\tLoss: 0.035514\tAccuracy: 98.44%\n",
            "Train Epoch: 11 [3264/50000 (7%)]\tLoss: 0.016838\tAccuracy: 97.64%\n",
            "Train Epoch: 11 [6464/50000 (13%)]\tLoss: 0.008729\tAccuracy: 97.60%\n",
            "Train Epoch: 11 [9664/50000 (19%)]\tLoss: 0.055934\tAccuracy: 97.50%\n",
            "Train Epoch: 11 [12864/50000 (26%)]\tLoss: 0.052802\tAccuracy: 97.47%\n",
            "Train Epoch: 11 [16064/50000 (32%)]\tLoss: 0.085584\tAccuracy: 97.53%\n",
            "Train Epoch: 11 [19264/50000 (38%)]\tLoss: 0.033381\tAccuracy: 97.56%\n",
            "Train Epoch: 11 [22464/50000 (45%)]\tLoss: 0.114128\tAccuracy: 97.54%\n",
            "Train Epoch: 11 [25664/50000 (51%)]\tLoss: 0.154329\tAccuracy: 97.56%\n",
            "Train Epoch: 11 [28864/50000 (58%)]\tLoss: 0.163586\tAccuracy: 97.56%\n",
            "Train Epoch: 11 [32064/50000 (64%)]\tLoss: 0.076668\tAccuracy: 97.58%\n",
            "Train Epoch: 11 [35264/50000 (70%)]\tLoss: 0.608656\tAccuracy: 97.58%\n",
            "Train Epoch: 11 [38464/50000 (77%)]\tLoss: 0.055306\tAccuracy: 97.59%\n",
            "Train Epoch: 11 [41664/50000 (83%)]\tLoss: 0.037509\tAccuracy: 97.58%\n",
            "Train Epoch: 11 [44864/50000 (90%)]\tLoss: 0.003242\tAccuracy: 97.57%\n",
            "Train Epoch: 11 [48064/50000 (96%)]\tLoss: 0.008139\tAccuracy: 97.59%\n",
            "\n",
            "Test set: Average loss: 0.3306, Accuracy: 95%\n",
            "\n",
            "Train Epoch: 12 [64/50000 (0%)]\tLoss: 0.137730\tAccuracy: 96.88%\n",
            "Train Epoch: 12 [3264/50000 (7%)]\tLoss: 0.255103\tAccuracy: 97.46%\n",
            "Train Epoch: 12 [6464/50000 (13%)]\tLoss: 0.108950\tAccuracy: 97.91%\n",
            "Train Epoch: 12 [9664/50000 (19%)]\tLoss: 0.011908\tAccuracy: 97.85%\n",
            "Train Epoch: 12 [12864/50000 (26%)]\tLoss: 0.070069\tAccuracy: 97.92%\n",
            "Train Epoch: 12 [16064/50000 (32%)]\tLoss: 0.117882\tAccuracy: 97.97%\n",
            "Train Epoch: 12 [19264/50000 (38%)]\tLoss: 0.005108\tAccuracy: 97.97%\n",
            "Train Epoch: 12 [22464/50000 (45%)]\tLoss: 0.118453\tAccuracy: 97.95%\n",
            "Train Epoch: 12 [25664/50000 (51%)]\tLoss: 0.198184\tAccuracy: 97.90%\n",
            "Train Epoch: 12 [28864/50000 (58%)]\tLoss: 0.007720\tAccuracy: 97.90%\n",
            "Train Epoch: 12 [32064/50000 (64%)]\tLoss: 0.141345\tAccuracy: 97.85%\n",
            "Train Epoch: 12 [35264/50000 (70%)]\tLoss: 0.017268\tAccuracy: 97.84%\n",
            "Train Epoch: 12 [38464/50000 (77%)]\tLoss: 0.046321\tAccuracy: 97.78%\n",
            "Train Epoch: 12 [41664/50000 (83%)]\tLoss: 0.118222\tAccuracy: 97.73%\n",
            "Train Epoch: 12 [44864/50000 (90%)]\tLoss: 0.081623\tAccuracy: 97.74%\n",
            "Train Epoch: 12 [48064/50000 (96%)]\tLoss: 0.179718\tAccuracy: 97.70%\n",
            "\n",
            "Test set: Average loss: 0.2890, Accuracy: 96%\n",
            "\n",
            "Train Epoch: 13 [64/50000 (0%)]\tLoss: 0.002547\tAccuracy: 100.00%\n",
            "Train Epoch: 13 [3264/50000 (7%)]\tLoss: 0.093863\tAccuracy: 98.07%\n",
            "Train Epoch: 13 [6464/50000 (13%)]\tLoss: 0.043362\tAccuracy: 98.16%\n",
            "Train Epoch: 13 [9664/50000 (19%)]\tLoss: 0.291641\tAccuracy: 98.05%\n",
            "Train Epoch: 13 [12864/50000 (26%)]\tLoss: 0.128401\tAccuracy: 98.03%\n",
            "Train Epoch: 13 [16064/50000 (32%)]\tLoss: 0.092664\tAccuracy: 97.95%\n",
            "Train Epoch: 13 [19264/50000 (38%)]\tLoss: 0.206807\tAccuracy: 97.87%\n",
            "Train Epoch: 13 [22464/50000 (45%)]\tLoss: 0.033538\tAccuracy: 97.88%\n",
            "Train Epoch: 13 [25664/50000 (51%)]\tLoss: 0.113498\tAccuracy: 97.89%\n",
            "Train Epoch: 13 [28864/50000 (58%)]\tLoss: 0.196049\tAccuracy: 97.77%\n",
            "Train Epoch: 13 [32064/50000 (64%)]\tLoss: 0.091708\tAccuracy: 97.74%\n",
            "Train Epoch: 13 [35264/50000 (70%)]\tLoss: 0.003298\tAccuracy: 97.74%\n",
            "Train Epoch: 13 [38464/50000 (77%)]\tLoss: 0.335017\tAccuracy: 97.75%\n",
            "Train Epoch: 13 [41664/50000 (83%)]\tLoss: 0.491708\tAccuracy: 97.79%\n",
            "Train Epoch: 13 [44864/50000 (90%)]\tLoss: 0.217359\tAccuracy: 97.79%\n",
            "Train Epoch: 13 [48064/50000 (96%)]\tLoss: 0.062569\tAccuracy: 97.78%\n",
            "\n",
            "Test set: Average loss: 0.2936, Accuracy: 96%\n",
            "\n",
            "Train Epoch: 14 [64/50000 (0%)]\tLoss: 0.000135\tAccuracy: 100.00%\n",
            "Train Epoch: 14 [3264/50000 (7%)]\tLoss: 0.019257\tAccuracy: 98.41%\n",
            "Train Epoch: 14 [6464/50000 (13%)]\tLoss: 0.016656\tAccuracy: 98.17%\n",
            "Train Epoch: 14 [9664/50000 (19%)]\tLoss: 0.001462\tAccuracy: 98.09%\n",
            "Train Epoch: 14 [12864/50000 (26%)]\tLoss: 0.006068\tAccuracy: 97.99%\n",
            "Train Epoch: 14 [16064/50000 (32%)]\tLoss: 0.102215\tAccuracy: 97.84%\n",
            "Train Epoch: 14 [19264/50000 (38%)]\tLoss: 0.056472\tAccuracy: 97.88%\n",
            "Train Epoch: 14 [22464/50000 (45%)]\tLoss: 0.016887\tAccuracy: 97.86%\n",
            "Train Epoch: 14 [25664/50000 (51%)]\tLoss: 0.015732\tAccuracy: 97.85%\n",
            "Train Epoch: 14 [28864/50000 (58%)]\tLoss: 0.166460\tAccuracy: 97.84%\n",
            "Train Epoch: 14 [32064/50000 (64%)]\tLoss: 0.026711\tAccuracy: 97.83%\n",
            "Train Epoch: 14 [35264/50000 (70%)]\tLoss: 0.203649\tAccuracy: 97.89%\n",
            "Train Epoch: 14 [38464/50000 (77%)]\tLoss: 0.007035\tAccuracy: 97.92%\n",
            "Train Epoch: 14 [41664/50000 (83%)]\tLoss: 0.049093\tAccuracy: 97.89%\n",
            "Train Epoch: 14 [44864/50000 (90%)]\tLoss: 0.081042\tAccuracy: 97.87%\n",
            "Train Epoch: 14 [48064/50000 (96%)]\tLoss: 0.041850\tAccuracy: 97.85%\n",
            "\n",
            "Test set: Average loss: 0.3440, Accuracy: 96%\n",
            "\n",
            "Train Epoch: 15 [64/50000 (0%)]\tLoss: 0.000005\tAccuracy: 100.00%\n",
            "Train Epoch: 15 [3264/50000 (7%)]\tLoss: 0.039817\tAccuracy: 98.01%\n",
            "Train Epoch: 15 [6464/50000 (13%)]\tLoss: 0.003413\tAccuracy: 97.93%\n",
            "Train Epoch: 15 [9664/50000 (19%)]\tLoss: 0.415287\tAccuracy: 98.04%\n",
            "Train Epoch: 15 [12864/50000 (26%)]\tLoss: 0.142007\tAccuracy: 98.07%\n",
            "Train Epoch: 15 [16064/50000 (32%)]\tLoss: 0.000516\tAccuracy: 98.02%\n",
            "Train Epoch: 15 [19264/50000 (38%)]\tLoss: 0.081391\tAccuracy: 98.04%\n",
            "Train Epoch: 15 [22464/50000 (45%)]\tLoss: 0.030080\tAccuracy: 97.99%\n",
            "Train Epoch: 15 [25664/50000 (51%)]\tLoss: 0.164205\tAccuracy: 98.05%\n",
            "Train Epoch: 15 [28864/50000 (58%)]\tLoss: 0.119085\tAccuracy: 98.04%\n",
            "Train Epoch: 15 [32064/50000 (64%)]\tLoss: 0.034456\tAccuracy: 98.01%\n",
            "Train Epoch: 15 [35264/50000 (70%)]\tLoss: 0.265545\tAccuracy: 98.04%\n",
            "Train Epoch: 15 [38464/50000 (77%)]\tLoss: 0.023125\tAccuracy: 98.01%\n",
            "Train Epoch: 15 [41664/50000 (83%)]\tLoss: 0.092233\tAccuracy: 97.96%\n",
            "Train Epoch: 15 [44864/50000 (90%)]\tLoss: 0.097806\tAccuracy: 97.95%\n",
            "Train Epoch: 15 [48064/50000 (96%)]\tLoss: 0.153934\tAccuracy: 97.92%\n",
            "\n",
            "Test set: Average loss: 0.3429, Accuracy: 97%\n",
            "\n",
            "Train Epoch: 16 [64/50000 (0%)]\tLoss: 0.069475\tAccuracy: 96.88%\n",
            "Train Epoch: 16 [3264/50000 (7%)]\tLoss: 0.005130\tAccuracy: 98.22%\n",
            "Train Epoch: 16 [6464/50000 (13%)]\tLoss: 0.075435\tAccuracy: 98.42%\n",
            "Train Epoch: 16 [9664/50000 (19%)]\tLoss: 0.002181\tAccuracy: 98.45%\n",
            "Train Epoch: 16 [12864/50000 (26%)]\tLoss: 0.213377\tAccuracy: 98.15%\n",
            "Train Epoch: 16 [16064/50000 (32%)]\tLoss: 0.041387\tAccuracy: 98.08%\n",
            "Train Epoch: 16 [19264/50000 (38%)]\tLoss: 0.008944\tAccuracy: 98.03%\n",
            "Train Epoch: 16 [22464/50000 (45%)]\tLoss: 0.003740\tAccuracy: 98.09%\n",
            "Train Epoch: 16 [25664/50000 (51%)]\tLoss: 0.064275\tAccuracy: 98.09%\n",
            "Train Epoch: 16 [28864/50000 (58%)]\tLoss: 0.171305\tAccuracy: 98.06%\n",
            "Train Epoch: 16 [32064/50000 (64%)]\tLoss: 0.101086\tAccuracy: 98.04%\n",
            "Train Epoch: 16 [35264/50000 (70%)]\tLoss: 0.157859\tAccuracy: 98.05%\n",
            "Train Epoch: 16 [38464/50000 (77%)]\tLoss: 0.028336\tAccuracy: 98.02%\n",
            "Train Epoch: 16 [41664/50000 (83%)]\tLoss: 0.262514\tAccuracy: 98.01%\n",
            "Train Epoch: 16 [44864/50000 (90%)]\tLoss: 0.058668\tAccuracy: 98.03%\n",
            "Train Epoch: 16 [48064/50000 (96%)]\tLoss: 0.112149\tAccuracy: 98.02%\n",
            "\n",
            "Test set: Average loss: 0.3915, Accuracy: 96%\n",
            "\n",
            "Train Epoch: 17 [64/50000 (0%)]\tLoss: 0.025888\tAccuracy: 98.44%\n",
            "Train Epoch: 17 [3264/50000 (7%)]\tLoss: 0.003608\tAccuracy: 98.22%\n",
            "Train Epoch: 17 [6464/50000 (13%)]\tLoss: 0.038376\tAccuracy: 98.10%\n",
            "Train Epoch: 17 [9664/50000 (19%)]\tLoss: 0.012614\tAccuracy: 98.20%\n",
            "Train Epoch: 17 [12864/50000 (26%)]\tLoss: 0.058842\tAccuracy: 98.17%\n",
            "Train Epoch: 17 [16064/50000 (32%)]\tLoss: 0.000002\tAccuracy: 98.18%\n",
            "Train Epoch: 17 [19264/50000 (38%)]\tLoss: 0.162612\tAccuracy: 98.18%\n",
            "Train Epoch: 17 [22464/50000 (45%)]\tLoss: 0.011755\tAccuracy: 98.11%\n",
            "Train Epoch: 17 [25664/50000 (51%)]\tLoss: 0.018840\tAccuracy: 98.10%\n",
            "Train Epoch: 17 [28864/50000 (58%)]\tLoss: 0.057036\tAccuracy: 98.08%\n",
            "Train Epoch: 17 [32064/50000 (64%)]\tLoss: 0.059685\tAccuracy: 98.10%\n",
            "Train Epoch: 17 [35264/50000 (70%)]\tLoss: 0.017157\tAccuracy: 98.10%\n",
            "Train Epoch: 17 [38464/50000 (77%)]\tLoss: 0.067664\tAccuracy: 98.15%\n",
            "Train Epoch: 17 [41664/50000 (83%)]\tLoss: 0.005454\tAccuracy: 98.13%\n",
            "Train Epoch: 17 [44864/50000 (90%)]\tLoss: 0.148191\tAccuracy: 98.11%\n",
            "Train Epoch: 17 [48064/50000 (96%)]\tLoss: 0.000436\tAccuracy: 98.14%\n",
            "\n",
            "Test set: Average loss: 0.3997, Accuracy: 96%\n",
            "\n",
            "Train Epoch: 18 [64/50000 (0%)]\tLoss: 0.075950\tAccuracy: 96.88%\n",
            "Train Epoch: 18 [3264/50000 (7%)]\tLoss: 0.223346\tAccuracy: 97.89%\n",
            "Train Epoch: 18 [6464/50000 (13%)]\tLoss: 0.002906\tAccuracy: 98.13%\n",
            "Train Epoch: 18 [9664/50000 (19%)]\tLoss: 0.000380\tAccuracy: 98.37%\n",
            "Train Epoch: 18 [12864/50000 (26%)]\tLoss: 0.006057\tAccuracy: 98.43%\n",
            "Train Epoch: 18 [16064/50000 (32%)]\tLoss: 0.115598\tAccuracy: 98.33%\n",
            "Train Epoch: 18 [19264/50000 (38%)]\tLoss: 0.047022\tAccuracy: 98.28%\n",
            "Train Epoch: 18 [22464/50000 (45%)]\tLoss: 0.169352\tAccuracy: 98.28%\n",
            "Train Epoch: 18 [25664/50000 (51%)]\tLoss: 0.014463\tAccuracy: 98.23%\n",
            "Train Epoch: 18 [28864/50000 (58%)]\tLoss: 0.192781\tAccuracy: 98.27%\n",
            "Train Epoch: 18 [32064/50000 (64%)]\tLoss: 0.045395\tAccuracy: 98.28%\n",
            "Train Epoch: 18 [35264/50000 (70%)]\tLoss: 0.170928\tAccuracy: 98.26%\n",
            "Train Epoch: 18 [38464/50000 (77%)]\tLoss: 0.014196\tAccuracy: 98.26%\n",
            "Train Epoch: 18 [41664/50000 (83%)]\tLoss: 0.000491\tAccuracy: 98.23%\n",
            "Train Epoch: 18 [44864/50000 (90%)]\tLoss: 0.002005\tAccuracy: 98.21%\n",
            "Train Epoch: 18 [48064/50000 (96%)]\tLoss: 0.000293\tAccuracy: 98.21%\n",
            "\n",
            "Test set: Average loss: 0.4211, Accuracy: 97%\n",
            "\n",
            "Train Epoch: 19 [64/50000 (0%)]\tLoss: 0.014756\tAccuracy: 100.00%\n",
            "Train Epoch: 19 [3264/50000 (7%)]\tLoss: 0.000235\tAccuracy: 98.71%\n",
            "Train Epoch: 19 [6464/50000 (13%)]\tLoss: 0.027208\tAccuracy: 98.59%\n",
            "Train Epoch: 19 [9664/50000 (19%)]\tLoss: 0.002171\tAccuracy: 98.48%\n",
            "Train Epoch: 19 [12864/50000 (26%)]\tLoss: 0.253466\tAccuracy: 98.48%\n",
            "Train Epoch: 19 [16064/50000 (32%)]\tLoss: 0.001213\tAccuracy: 98.39%\n",
            "Train Epoch: 19 [19264/50000 (38%)]\tLoss: 0.213698\tAccuracy: 98.35%\n",
            "Train Epoch: 19 [22464/50000 (45%)]\tLoss: 0.004915\tAccuracy: 98.36%\n",
            "Train Epoch: 19 [25664/50000 (51%)]\tLoss: 0.851308\tAccuracy: 98.40%\n",
            "Train Epoch: 19 [28864/50000 (58%)]\tLoss: 0.129027\tAccuracy: 98.41%\n",
            "Train Epoch: 19 [32064/50000 (64%)]\tLoss: 0.000256\tAccuracy: 98.36%\n",
            "Train Epoch: 19 [35264/50000 (70%)]\tLoss: 0.001459\tAccuracy: 98.29%\n",
            "Train Epoch: 19 [38464/50000 (77%)]\tLoss: 0.149422\tAccuracy: 98.25%\n",
            "Train Epoch: 19 [41664/50000 (83%)]\tLoss: 0.007676\tAccuracy: 98.23%\n",
            "Train Epoch: 19 [44864/50000 (90%)]\tLoss: 0.053995\tAccuracy: 98.26%\n",
            "Train Epoch: 19 [48064/50000 (96%)]\tLoss: 0.113313\tAccuracy: 98.29%\n",
            "\n",
            "Test set: Average loss: 0.4233, Accuracy: 97%\n",
            "\n",
            "Train Epoch: 20 [64/50000 (0%)]\tLoss: 0.052379\tAccuracy: 98.44%\n",
            "Train Epoch: 20 [3264/50000 (7%)]\tLoss: 0.000152\tAccuracy: 98.65%\n",
            "Train Epoch: 20 [6464/50000 (13%)]\tLoss: 0.122490\tAccuracy: 98.44%\n",
            "Train Epoch: 20 [9664/50000 (19%)]\tLoss: 0.000011\tAccuracy: 98.54%\n",
            "Train Epoch: 20 [12864/50000 (26%)]\tLoss: 0.161765\tAccuracy: 98.38%\n",
            "Train Epoch: 20 [16064/50000 (32%)]\tLoss: 0.406828\tAccuracy: 98.36%\n",
            "Train Epoch: 20 [19264/50000 (38%)]\tLoss: 0.332605\tAccuracy: 98.39%\n",
            "Train Epoch: 20 [22464/50000 (45%)]\tLoss: 0.022734\tAccuracy: 98.40%\n",
            "Train Epoch: 20 [25664/50000 (51%)]\tLoss: 0.277509\tAccuracy: 98.40%\n",
            "Train Epoch: 20 [28864/50000 (58%)]\tLoss: 0.046280\tAccuracy: 98.40%\n",
            "Train Epoch: 20 [32064/50000 (64%)]\tLoss: 0.003595\tAccuracy: 98.38%\n",
            "Train Epoch: 20 [35264/50000 (70%)]\tLoss: 0.116612\tAccuracy: 98.40%\n",
            "Train Epoch: 20 [38464/50000 (77%)]\tLoss: 0.044528\tAccuracy: 98.40%\n",
            "Train Epoch: 20 [41664/50000 (83%)]\tLoss: 0.035357\tAccuracy: 98.44%\n",
            "Train Epoch: 20 [44864/50000 (90%)]\tLoss: 0.010632\tAccuracy: 98.39%\n",
            "Train Epoch: 20 [48064/50000 (96%)]\tLoss: 0.072973\tAccuracy: 98.41%\n",
            "\n",
            "Test set: Average loss: 0.4228, Accuracy: 97%\n",
            "\n",
            "Train Epoch: 21 [64/50000 (0%)]\tLoss: 0.136331\tAccuracy: 98.44%\n",
            "Train Epoch: 21 [3264/50000 (7%)]\tLoss: 0.000435\tAccuracy: 99.14%\n",
            "Train Epoch: 21 [6464/50000 (13%)]\tLoss: 0.011669\tAccuracy: 98.65%\n",
            "Train Epoch: 21 [9664/50000 (19%)]\tLoss: 0.009736\tAccuracy: 98.71%\n",
            "Train Epoch: 21 [12864/50000 (26%)]\tLoss: 0.209508\tAccuracy: 98.60%\n",
            "Train Epoch: 21 [16064/50000 (32%)]\tLoss: 0.022592\tAccuracy: 98.55%\n",
            "Train Epoch: 21 [19264/50000 (38%)]\tLoss: 0.790962\tAccuracy: 98.55%\n",
            "Train Epoch: 21 [22464/50000 (45%)]\tLoss: 0.022253\tAccuracy: 98.54%\n",
            "Train Epoch: 21 [25664/50000 (51%)]\tLoss: 0.008969\tAccuracy: 98.53%\n",
            "Train Epoch: 21 [28864/50000 (58%)]\tLoss: 0.045235\tAccuracy: 98.51%\n",
            "Train Epoch: 21 [32064/50000 (64%)]\tLoss: 0.000541\tAccuracy: 98.51%\n",
            "Train Epoch: 21 [35264/50000 (70%)]\tLoss: 0.193000\tAccuracy: 98.45%\n",
            "Train Epoch: 21 [38464/50000 (77%)]\tLoss: 0.390084\tAccuracy: 98.44%\n",
            "Train Epoch: 21 [41664/50000 (83%)]\tLoss: 0.428146\tAccuracy: 98.44%\n",
            "Train Epoch: 21 [44864/50000 (90%)]\tLoss: 0.036739\tAccuracy: 98.43%\n",
            "Train Epoch: 21 [48064/50000 (96%)]\tLoss: 0.342079\tAccuracy: 98.41%\n",
            "\n",
            "Test set: Average loss: 0.4281, Accuracy: 97%\n",
            "\n",
            "Train Epoch: 22 [64/50000 (0%)]\tLoss: 0.019510\tAccuracy: 100.00%\n",
            "Train Epoch: 22 [3264/50000 (7%)]\tLoss: 0.109520\tAccuracy: 99.02%\n",
            "Train Epoch: 22 [6464/50000 (13%)]\tLoss: 0.057419\tAccuracy: 99.01%\n",
            "Train Epoch: 22 [9664/50000 (19%)]\tLoss: 0.000001\tAccuracy: 98.94%\n",
            "Train Epoch: 22 [12864/50000 (26%)]\tLoss: 0.032158\tAccuracy: 98.91%\n",
            "Train Epoch: 22 [16064/50000 (32%)]\tLoss: 0.021895\tAccuracy: 98.86%\n",
            "Train Epoch: 22 [19264/50000 (38%)]\tLoss: 0.328413\tAccuracy: 98.79%\n",
            "Train Epoch: 22 [22464/50000 (45%)]\tLoss: 0.017071\tAccuracy: 98.63%\n",
            "Train Epoch: 22 [25664/50000 (51%)]\tLoss: 0.143048\tAccuracy: 98.62%\n",
            "Train Epoch: 22 [28864/50000 (58%)]\tLoss: 0.030377\tAccuracy: 98.57%\n",
            "Train Epoch: 22 [32064/50000 (64%)]\tLoss: 0.122995\tAccuracy: 98.50%\n",
            "Train Epoch: 22 [35264/50000 (70%)]\tLoss: 0.187074\tAccuracy: 98.50%\n",
            "Train Epoch: 22 [38464/50000 (77%)]\tLoss: 0.009506\tAccuracy: 98.47%\n",
            "Train Epoch: 22 [41664/50000 (83%)]\tLoss: 0.242942\tAccuracy: 98.44%\n",
            "Train Epoch: 22 [44864/50000 (90%)]\tLoss: 0.148664\tAccuracy: 98.45%\n",
            "Train Epoch: 22 [48064/50000 (96%)]\tLoss: 0.058361\tAccuracy: 98.43%\n",
            "\n",
            "Test set: Average loss: 0.4946, Accuracy: 97%\n",
            "\n",
            "Train Epoch: 23 [64/50000 (0%)]\tLoss: 0.039623\tAccuracy: 98.44%\n",
            "Train Epoch: 23 [3264/50000 (7%)]\tLoss: 0.118652\tAccuracy: 98.96%\n",
            "Train Epoch: 23 [6464/50000 (13%)]\tLoss: 0.015675\tAccuracy: 98.82%\n",
            "Train Epoch: 23 [9664/50000 (19%)]\tLoss: 0.055988\tAccuracy: 98.82%\n",
            "Train Epoch: 23 [12864/50000 (26%)]\tLoss: 0.217128\tAccuracy: 98.76%\n",
            "Train Epoch: 23 [16064/50000 (32%)]\tLoss: 0.051464\tAccuracy: 98.75%\n",
            "Train Epoch: 23 [19264/50000 (38%)]\tLoss: 0.670257\tAccuracy: 98.70%\n",
            "Train Epoch: 23 [22464/50000 (45%)]\tLoss: 0.029980\tAccuracy: 98.68%\n",
            "Train Epoch: 23 [25664/50000 (51%)]\tLoss: 0.102108\tAccuracy: 98.62%\n",
            "Train Epoch: 23 [28864/50000 (58%)]\tLoss: 0.034999\tAccuracy: 98.59%\n",
            "Train Epoch: 23 [32064/50000 (64%)]\tLoss: 0.001639\tAccuracy: 98.55%\n",
            "Train Epoch: 23 [35264/50000 (70%)]\tLoss: 0.009281\tAccuracy: 98.59%\n",
            "Train Epoch: 23 [38464/50000 (77%)]\tLoss: 0.000003\tAccuracy: 98.59%\n",
            "Train Epoch: 23 [41664/50000 (83%)]\tLoss: 0.058758\tAccuracy: 98.59%\n",
            "Train Epoch: 23 [44864/50000 (90%)]\tLoss: 0.038916\tAccuracy: 98.58%\n",
            "Train Epoch: 23 [48064/50000 (96%)]\tLoss: 0.033407\tAccuracy: 98.58%\n",
            "\n",
            "Test set: Average loss: 0.7773, Accuracy: 95%\n",
            "\n",
            "Train Epoch: 24 [64/50000 (0%)]\tLoss: 0.108198\tAccuracy: 98.44%\n",
            "Train Epoch: 24 [3264/50000 (7%)]\tLoss: 0.004104\tAccuracy: 98.22%\n",
            "Train Epoch: 24 [6464/50000 (13%)]\tLoss: 0.096850\tAccuracy: 98.50%\n",
            "Train Epoch: 24 [9664/50000 (19%)]\tLoss: 0.218858\tAccuracy: 98.45%\n",
            "Train Epoch: 24 [12864/50000 (26%)]\tLoss: 0.082666\tAccuracy: 98.49%\n",
            "Train Epoch: 24 [16064/50000 (32%)]\tLoss: 0.023225\tAccuracy: 98.53%\n",
            "Train Epoch: 24 [19264/50000 (38%)]\tLoss: 0.227660\tAccuracy: 98.55%\n",
            "Train Epoch: 24 [22464/50000 (45%)]\tLoss: 0.000095\tAccuracy: 98.58%\n",
            "Train Epoch: 24 [25664/50000 (51%)]\tLoss: 0.026187\tAccuracy: 98.52%\n",
            "Train Epoch: 24 [28864/50000 (58%)]\tLoss: 0.057776\tAccuracy: 98.53%\n",
            "Train Epoch: 24 [32064/50000 (64%)]\tLoss: 0.074598\tAccuracy: 98.52%\n",
            "Train Epoch: 24 [35264/50000 (70%)]\tLoss: 0.051795\tAccuracy: 98.52%\n",
            "Train Epoch: 24 [38464/50000 (77%)]\tLoss: 0.580916\tAccuracy: 98.50%\n",
            "Train Epoch: 24 [41664/50000 (83%)]\tLoss: 0.023345\tAccuracy: 98.46%\n",
            "Train Epoch: 24 [44864/50000 (90%)]\tLoss: 0.046954\tAccuracy: 98.46%\n",
            "Train Epoch: 24 [48064/50000 (96%)]\tLoss: 0.000200\tAccuracy: 98.44%\n",
            "\n",
            "Test set: Average loss: 0.5702, Accuracy: 96%\n",
            "\n",
            "Train Epoch: 25 [64/50000 (0%)]\tLoss: 0.481324\tAccuracy: 95.31%\n",
            "Train Epoch: 25 [3264/50000 (7%)]\tLoss: 0.018176\tAccuracy: 98.71%\n",
            "Train Epoch: 25 [6464/50000 (13%)]\tLoss: 0.171736\tAccuracy: 98.70%\n",
            "Train Epoch: 25 [9664/50000 (19%)]\tLoss: 0.132606\tAccuracy: 98.71%\n",
            "Train Epoch: 25 [12864/50000 (26%)]\tLoss: 0.205466\tAccuracy: 98.80%\n",
            "Train Epoch: 25 [16064/50000 (32%)]\tLoss: 0.001163\tAccuracy: 98.85%\n",
            "Train Epoch: 25 [19264/50000 (38%)]\tLoss: 0.051798\tAccuracy: 98.84%\n",
            "Train Epoch: 25 [22464/50000 (45%)]\tLoss: 0.028708\tAccuracy: 98.84%\n",
            "Train Epoch: 25 [25664/50000 (51%)]\tLoss: 0.052925\tAccuracy: 98.82%\n",
            "Train Epoch: 25 [28864/50000 (58%)]\tLoss: 0.042922\tAccuracy: 98.82%\n",
            "Train Epoch: 25 [32064/50000 (64%)]\tLoss: 0.183878\tAccuracy: 98.79%\n",
            "Train Epoch: 25 [35264/50000 (70%)]\tLoss: 0.040979\tAccuracy: 98.75%\n",
            "Train Epoch: 25 [38464/50000 (77%)]\tLoss: 0.070682\tAccuracy: 98.71%\n",
            "Train Epoch: 25 [41664/50000 (83%)]\tLoss: 0.030056\tAccuracy: 98.75%\n",
            "Train Epoch: 25 [44864/50000 (90%)]\tLoss: 0.001735\tAccuracy: 98.76%\n",
            "Train Epoch: 25 [48064/50000 (96%)]\tLoss: 0.592291\tAccuracy: 98.74%\n",
            "\n",
            "Test set: Average loss: 0.6359, Accuracy: 96%\n",
            "\n",
            "Train Epoch: 26 [64/50000 (0%)]\tLoss: 0.004236\tAccuracy: 100.00%\n",
            "Train Epoch: 26 [3264/50000 (7%)]\tLoss: 0.029373\tAccuracy: 98.41%\n",
            "Train Epoch: 26 [6464/50000 (13%)]\tLoss: 0.087720\tAccuracy: 98.72%\n",
            "Train Epoch: 26 [9664/50000 (19%)]\tLoss: 0.007270\tAccuracy: 98.77%\n",
            "Train Epoch: 26 [12864/50000 (26%)]\tLoss: 0.000238\tAccuracy: 98.67%\n",
            "Train Epoch: 26 [16064/50000 (32%)]\tLoss: 0.136105\tAccuracy: 98.65%\n",
            "Train Epoch: 26 [19264/50000 (38%)]\tLoss: 0.093736\tAccuracy: 98.67%\n",
            "Train Epoch: 26 [22464/50000 (45%)]\tLoss: 0.081986\tAccuracy: 98.74%\n",
            "Train Epoch: 26 [25664/50000 (51%)]\tLoss: 0.273192\tAccuracy: 98.71%\n",
            "Train Epoch: 26 [28864/50000 (58%)]\tLoss: 0.000999\tAccuracy: 98.66%\n",
            "Train Epoch: 26 [32064/50000 (64%)]\tLoss: 0.000069\tAccuracy: 98.64%\n",
            "Train Epoch: 26 [35264/50000 (70%)]\tLoss: 0.025673\tAccuracy: 98.65%\n",
            "Train Epoch: 26 [38464/50000 (77%)]\tLoss: 0.000000\tAccuracy: 98.67%\n",
            "Train Epoch: 26 [41664/50000 (83%)]\tLoss: 0.000238\tAccuracy: 98.65%\n",
            "Train Epoch: 26 [44864/50000 (90%)]\tLoss: 0.060889\tAccuracy: 98.62%\n",
            "Train Epoch: 26 [48064/50000 (96%)]\tLoss: 0.000039\tAccuracy: 98.62%\n",
            "\n",
            "Test set: Average loss: 0.6224, Accuracy: 96%\n",
            "\n",
            "Train Epoch: 27 [64/50000 (0%)]\tLoss: 0.016102\tAccuracy: 100.00%\n",
            "Train Epoch: 27 [3264/50000 (7%)]\tLoss: 0.000207\tAccuracy: 98.77%\n",
            "Train Epoch: 27 [6464/50000 (13%)]\tLoss: 0.022751\tAccuracy: 98.82%\n",
            "Train Epoch: 27 [9664/50000 (19%)]\tLoss: 0.000290\tAccuracy: 98.82%\n",
            "Train Epoch: 27 [12864/50000 (26%)]\tLoss: 0.013781\tAccuracy: 98.86%\n",
            "Train Epoch: 27 [16064/50000 (32%)]\tLoss: 0.000171\tAccuracy: 98.79%\n",
            "Train Epoch: 27 [19264/50000 (38%)]\tLoss: 0.032900\tAccuracy: 98.76%\n",
            "Train Epoch: 27 [22464/50000 (45%)]\tLoss: 0.001356\tAccuracy: 98.77%\n",
            "Train Epoch: 27 [25664/50000 (51%)]\tLoss: 0.000019\tAccuracy: 98.73%\n",
            "Train Epoch: 27 [28864/50000 (58%)]\tLoss: 0.505198\tAccuracy: 98.70%\n",
            "Train Epoch: 27 [32064/50000 (64%)]\tLoss: 0.025020\tAccuracy: 98.66%\n",
            "Train Epoch: 27 [35264/50000 (70%)]\tLoss: 0.006110\tAccuracy: 98.66%\n",
            "Train Epoch: 27 [38464/50000 (77%)]\tLoss: 0.001903\tAccuracy: 98.67%\n",
            "Train Epoch: 27 [41664/50000 (83%)]\tLoss: 0.014317\tAccuracy: 98.71%\n",
            "Train Epoch: 27 [44864/50000 (90%)]\tLoss: 0.069213\tAccuracy: 98.70%\n",
            "Train Epoch: 27 [48064/50000 (96%)]\tLoss: 0.024081\tAccuracy: 98.67%\n",
            "\n",
            "Test set: Average loss: 0.6026, Accuracy: 96%\n",
            "\n",
            "Train Epoch: 28 [64/50000 (0%)]\tLoss: 0.189845\tAccuracy: 96.88%\n",
            "Train Epoch: 28 [3264/50000 (7%)]\tLoss: 0.023433\tAccuracy: 98.62%\n",
            "Train Epoch: 28 [6464/50000 (13%)]\tLoss: 0.002834\tAccuracy: 98.62%\n",
            "Train Epoch: 28 [9664/50000 (19%)]\tLoss: 0.166015\tAccuracy: 98.69%\n",
            "Train Epoch: 28 [12864/50000 (26%)]\tLoss: 0.131871\tAccuracy: 98.81%\n",
            "Train Epoch: 28 [16064/50000 (32%)]\tLoss: 0.000006\tAccuracy: 98.84%\n",
            "Train Epoch: 28 [19264/50000 (38%)]\tLoss: 0.090221\tAccuracy: 98.80%\n",
            "Train Epoch: 28 [22464/50000 (45%)]\tLoss: 0.143388\tAccuracy: 98.82%\n",
            "Train Epoch: 28 [25664/50000 (51%)]\tLoss: 0.025551\tAccuracy: 98.85%\n",
            "Train Epoch: 28 [28864/50000 (58%)]\tLoss: 0.091752\tAccuracy: 98.82%\n",
            "Train Epoch: 28 [32064/50000 (64%)]\tLoss: 0.052095\tAccuracy: 98.82%\n",
            "Train Epoch: 28 [35264/50000 (70%)]\tLoss: 0.000033\tAccuracy: 98.83%\n",
            "Train Epoch: 28 [38464/50000 (77%)]\tLoss: 0.119758\tAccuracy: 98.81%\n",
            "Train Epoch: 28 [41664/50000 (83%)]\tLoss: 0.029288\tAccuracy: 98.81%\n",
            "Train Epoch: 28 [44864/50000 (90%)]\tLoss: 0.137020\tAccuracy: 98.79%\n",
            "Train Epoch: 28 [48064/50000 (96%)]\tLoss: 0.061252\tAccuracy: 98.78%\n",
            "\n",
            "Test set: Average loss: 0.6286, Accuracy: 96%\n",
            "\n",
            "Train Epoch: 29 [64/50000 (0%)]\tLoss: 0.067090\tAccuracy: 96.88%\n",
            "Train Epoch: 29 [3264/50000 (7%)]\tLoss: 0.033569\tAccuracy: 98.74%\n",
            "Train Epoch: 29 [6464/50000 (13%)]\tLoss: 0.225728\tAccuracy: 98.67%\n",
            "Train Epoch: 29 [9664/50000 (19%)]\tLoss: 0.002596\tAccuracy: 98.68%\n",
            "Train Epoch: 29 [12864/50000 (26%)]\tLoss: 0.135837\tAccuracy: 98.71%\n",
            "Train Epoch: 29 [16064/50000 (32%)]\tLoss: 0.001432\tAccuracy: 98.78%\n",
            "Train Epoch: 29 [19264/50000 (38%)]\tLoss: 0.257111\tAccuracy: 98.80%\n",
            "Train Epoch: 29 [22464/50000 (45%)]\tLoss: 0.086583\tAccuracy: 98.78%\n",
            "Train Epoch: 29 [25664/50000 (51%)]\tLoss: 0.000003\tAccuracy: 98.81%\n",
            "Train Epoch: 29 [28864/50000 (58%)]\tLoss: 0.012792\tAccuracy: 98.81%\n",
            "Train Epoch: 29 [32064/50000 (64%)]\tLoss: 0.026200\tAccuracy: 98.82%\n",
            "Train Epoch: 29 [35264/50000 (70%)]\tLoss: 0.000000\tAccuracy: 98.82%\n",
            "Train Epoch: 29 [38464/50000 (77%)]\tLoss: 0.001414\tAccuracy: 98.81%\n",
            "Train Epoch: 29 [41664/50000 (83%)]\tLoss: 0.133147\tAccuracy: 98.82%\n",
            "Train Epoch: 29 [44864/50000 (90%)]\tLoss: 0.043521\tAccuracy: 98.84%\n",
            "Train Epoch: 29 [48064/50000 (96%)]\tLoss: 0.001558\tAccuracy: 98.83%\n",
            "\n",
            "Test set: Average loss: 0.7338, Accuracy: 96%\n",
            "\n"
          ]
        }
      ]
    },
    {
      "cell_type": "code",
      "source": [
        "epochs = range(len(history['loss']))\n",
        "\n",
        "plt.plot(epochs, history['loss'], 'bo', label='Training loss')\n",
        "plt.plot(epochs, history['val_loss'], 'b', label='validation loss')\n",
        "plt.title('Training and validation loss')\n",
        "plt.legend()\n",
        "\n",
        "plt.show()"
      ],
      "metadata": {
        "colab": {
          "base_uri": "https://localhost:8080/",
          "height": 281
        },
        "id": "UfsO16x51PCi",
        "outputId": "993e7960-0811-4251-9e61-0e7b50ee685a"
      },
      "execution_count": null,
      "outputs": [
        {
          "output_type": "display_data",
          "data": {
            "text/plain": [
              "<Figure size 432x288 with 1 Axes>"
            ],
            "image/png": "[encoded data removed]"
          },
          "metadata": {
            "needs_background": "light"
          }
        }
      ]
    },
    {
      "cell_type": "code",
      "source": [
        "plt.plot(epochs, history['acc'], 'bo', label='Training accuracy')\n",
        "plt.plot(epochs, history['val_acc'], 'b', label='validation accuracy')\n",
        "plt.title('Training and validation accuracy')\n",
        "plt.legend()\n",
        "\n",
        "plt.show()"
      ],
      "metadata": {
        "colab": {
          "base_uri": "https://localhost:8080/",
          "height": 281
        },
        "id": "MeXq8tNk5K9V",
        "outputId": "5442b145-d2c5-41e2-cfd4-8dad7c4e838b"
      },
      "execution_count": null,
      "outputs": [
        {
          "output_type": "display_data",
          "data": {
            "text/plain": [
              "<Figure size 432x288 with 1 Axes>"
            ],
            "image/png": "[encoded data removed]"
          },
          "metadata": {
            "needs_background": "light"
          }
        }
      ]
    },
    {
      "cell_type": "code",
      "source": [
        "test(test_loader)"
      ],
      "metadata": {
        "colab": {
          "base_uri": "https://localhost:8080/"
        },
        "id": "UnErtxVugs-i",
        "outputId": "9c3e3f5b-0af9-452d-9f79-10a6246392b2"
      },
      "execution_count": null,
      "outputs": [
        {
          "output_type": "stream",
          "name": "stdout",
          "text": [
            "\n",
            "Test set: Average loss: 0.7111, Accuracy: 96%\n",
            "\n"
          ]
        }
      ]
    },
    {
      "cell_type": "code",
      "source": [
        "prediction = model(torch.Tensor(test_images[0]))"
      ],
      "metadata": {
        "id": "DxDQBF3r5kam"
      },
      "execution_count": null,
      "outputs": []
    },
    {
      "cell_type": "code",
      "source": [
        "prediction"
      ],
      "metadata": {
        "colab": {
          "base_uri": "https://localhost:8080/"
        },
        "id": "Dd5nwWM3VOV0",
        "outputId": "f819f3f6-b12c-41af-b8e6-eae4bf73f0cf"
      },
      "execution_count": null,
      "outputs": [
        {
          "output_type": "execute_result",
          "data": {
            "text/plain": [
              "tensor([-222.0856, -160.2808,  -73.0702,  -97.6194, -168.0302, -131.9401,\n",
              "        -395.8897,   74.6896, -153.3245,  -87.7085], grad_fn=<AddBackward0>)"
            ]
          },
          "metadata": {},
          "execution_count": 45
        }
      ]
    },
    {
      "cell_type": "code",
      "source": [
        "prediction.argmax(axis=0)"
      ],
      "metadata": {
        "colab": {
          "base_uri": "https://localhost:8080/"
        },
        "id": "Mih9AQxRUscr",
        "outputId": "fc54e074-c86d-4313-c379-e7a36c57269f"
      },
      "execution_count": null,
      "outputs": [
        {
          "output_type": "execute_result",
          "data": {
            "text/plain": [
              "tensor(7)"
            ]
          },
          "metadata": {},
          "execution_count": 46
        }
      ]
    },
    {
      "cell_type": "code",
      "source": [
        "plt.figure()\n",
        "plt.imshow(test_images[0].reshape(28, 28))\n",
        "plt.colorbar()\n",
        "plt.grid(False)\n",
        "plt.show()"
      ],
      "metadata": {
        "colab": {
          "base_uri": "https://localhost:8080/",
          "height": 265
        },
        "id": "MiTi636nU5EC",
        "outputId": "9c61d274-c90d-40b0-8c0d-30900526f1aa"
      },
      "execution_count": null,
      "outputs": [
        {
          "output_type": "display_data",
          "data": {
            "text/plain": [
              "<Figure size 432x288 with 2 Axes>"
            ],
            "image/png": "[encoded data removed]"
          },
          "metadata": {
            "needs_background": "light"
          }
        }
      ]
    },
    {
      "cell_type": "markdown",
      "source": [
        "COPYRIGHT BY CODEPRESSO"
      ],
      "metadata": {
        "id": "Fv_5OSuFRHqd"
      }
    }
  ]
}